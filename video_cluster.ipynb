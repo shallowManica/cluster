{
 "cells": [
  {
   "cell_type": "code",
   "execution_count": 34,
   "metadata": {},
   "outputs": [],
   "source": [
    "import numpy as np\n",
    "import pandas as pd\n",
    "import umap.umap_ as umap\n",
    "import hdbscan\n",
    "import cv2\n",
    "import matplotlib.pyplot as plt\n",
    "import os\n",
    "import plotly.graph_objects as go\n",
    "from tqdm import tqdm\n",
    "from sklearn.cluster import KMeans\n",
    "from sklearn.preprocessing import StandardScaler\n",
    "from scipy.cluster.hierarchy import fcluster\n",
    "from sklearn.metrics import silhouette_score\n",
    "from bayes_opt import BayesianOptimization\n",
    "import glob"
   ]
  },
  {
   "cell_type": "code",
   "execution_count": 20,
   "metadata": {},
   "outputs": [],
   "source": [
    "new_column_names = [\n",
    "    'Time', 'Hip x', 'Hip y', 'Hip likelihood',\n",
    "    'Knee x', 'Knee y', 'Knee likelihood',\n",
    "    'Ankle x', 'Ankle y', 'Ankle likelihood',\n",
    "    'Heel (ventral) x', 'Heel (ventral) y', 'Heel (ventral) likelihood',\n",
    "    'Instep (dorsal) x', 'Instep (dorsal) y', 'Instep (dorsal) likelihood',\n",
    "    'Toe 1 (Proximal Thumb) x', 'Toe 1 (Proximal Thumb) y', 'Toe 1 (Proximal Thumb) likelihood',\n",
    "    'Toe2 x', 'Toe2 y', 'Toe2 likelihood',\n",
    "    'Toe 3 (Middle) x', 'Toe 3 (Middle) y', 'Toe 3 (Middle) likelihood',\n",
    "    'Toe4 x', 'Toe4 y', 'Toe4 likelihood',\n",
    "    'Toe 5 (Distal Pinky) x', 'Toe 5 (Distal Pinky) y', 'Toe 5 (Distal Pinky) likelihood',\n",
    "]\n",
    "def process_data(file_path):\n",
    "    # Read only the first row to check column names\n",
    "    df_header = pd.read_csv(file_path, nrows=0)\n",
    "    \n",
    "    if list(df_header.columns) != new_column_names:\n",
    "        df = pd.read_csv(file_path, skiprows=3, header=None)\n",
    "        df.columns = new_column_names\n",
    "    else:\n",
    "        df = pd.read_csv(file_path)\n",
    "\n",
    "    coordinate_columns = [col for col in df.columns if ' x' in col or ' y' in col]\n",
    "    df = df[(df[coordinate_columns] != 0).all(axis=1)]\n",
    "\n",
    "    return df"
   ]
  },
  {
   "cell_type": "code",
   "execution_count": 21,
   "metadata": {},
   "outputs": [],
   "source": [
    "def load_and_scale_data(batch_folder, video_format, skiprows, sep, decimal, batch_number):\n",
    "    folder_path = f\"{batch_folder}/*.{video_format}\"\n",
    "    print(folder_path)\n",
    "    csv_files = sorted(glob.glob(folder_path.replace(f\".{video_format}\", \".csv\")))\n",
    "    print(csv_files)\n",
    "    video_files = sorted(glob.glob(folder_path))\n",
    "    dataframes = []\n",
    "\n",
    "    for file_id, file in enumerate(csv_files):   \n",
    "        df = process_data(file)\n",
    "        coord_columns = [col for col in df.columns if ' x' in col or ' y' in col]\n",
    "        scaler = StandardScaler()\n",
    "        scaled_coords = scaler.fit_transform(df[coord_columns])\n",
    "        scaled_df = pd.DataFrame(scaled_coords, columns=coord_columns)\n",
    "        for col in df.columns:\n",
    "            if col not in coord_columns:\n",
    "                scaled_df[col] = df[col]\n",
    "        scaled_df['FileID'] = file_id\n",
    "        scaled_df['Batch'] = batch_number\n",
    "        dataframes.append(scaled_df)\n",
    "\n",
    "    return pd.concat(dataframes).reset_index(drop=True), video_files, csv_files"
   ]
  },
  {
   "cell_type": "code",
   "execution_count": 22,
   "metadata": {},
   "outputs": [
    {
     "name": "stdout",
     "output_type": "stream",
     "text": [
      "E:/UofT/ECE2500/batch10/*.mp4\n",
      "['E:/UofT/ECE2500/batch10\\\\TIS Sweep 1_100-1726266331DLC_resnet50_batch_10Sep21shuffle1_150000_filtered.csv', 'E:/UofT/ECE2500/batch10\\\\TIS Sweep 1_99-1726264847DLC_resnet50_batch_10Sep21shuffle1_150000_filtered.csv', 'E:/UofT/ECE2500/batch10\\\\TIS Sweep 2_100-1726266894DLC_resnet50_batch_10Sep21shuffle1_150000_filtered.csv', 'E:/UofT/ECE2500/batch10\\\\TIS Sweep 2_99-1726267369DLC_resnet50_batch_10Sep21shuffle1_150000_filtered.csv']\n"
     ]
    },
    {
     "data": {
      "text/html": [
       "<div>\n",
       "<style scoped>\n",
       "    .dataframe tbody tr th:only-of-type {\n",
       "        vertical-align: middle;\n",
       "    }\n",
       "\n",
       "    .dataframe tbody tr th {\n",
       "        vertical-align: top;\n",
       "    }\n",
       "\n",
       "    .dataframe thead th {\n",
       "        text-align: right;\n",
       "    }\n",
       "</style>\n",
       "<table border=\"1\" class=\"dataframe\">\n",
       "  <thead>\n",
       "    <tr style=\"text-align: right;\">\n",
       "      <th></th>\n",
       "      <th>Hip x</th>\n",
       "      <th>Hip y</th>\n",
       "      <th>Knee x</th>\n",
       "      <th>Knee y</th>\n",
       "      <th>Ankle x</th>\n",
       "      <th>Ankle y</th>\n",
       "      <th>Heel (ventral) x</th>\n",
       "      <th>Heel (ventral) y</th>\n",
       "      <th>Instep (dorsal) x</th>\n",
       "      <th>Instep (dorsal) y</th>\n",
       "      <th>...</th>\n",
       "      <th>Ankle likelihood</th>\n",
       "      <th>Heel (ventral) likelihood</th>\n",
       "      <th>Instep (dorsal) likelihood</th>\n",
       "      <th>Toe 1 (Proximal Thumb) likelihood</th>\n",
       "      <th>Toe2 likelihood</th>\n",
       "      <th>Toe 3 (Middle) likelihood</th>\n",
       "      <th>Toe4 likelihood</th>\n",
       "      <th>Toe 5 (Distal Pinky) likelihood</th>\n",
       "      <th>FileID</th>\n",
       "      <th>Batch</th>\n",
       "    </tr>\n",
       "  </thead>\n",
       "  <tbody>\n",
       "    <tr>\n",
       "      <th>0</th>\n",
       "      <td>0.737044</td>\n",
       "      <td>-1.314555</td>\n",
       "      <td>-0.575300</td>\n",
       "      <td>-1.098360</td>\n",
       "      <td>-2.274634</td>\n",
       "      <td>-2.267028</td>\n",
       "      <td>-2.365389</td>\n",
       "      <td>-2.256856</td>\n",
       "      <td>2.056392</td>\n",
       "      <td>-2.282445</td>\n",
       "      <td>...</td>\n",
       "      <td>0.999928</td>\n",
       "      <td>0.999661</td>\n",
       "      <td>0.999645</td>\n",
       "      <td>0.999971</td>\n",
       "      <td>0.999903</td>\n",
       "      <td>0.999949</td>\n",
       "      <td>0.999935</td>\n",
       "      <td>0.999867</td>\n",
       "      <td>0</td>\n",
       "      <td>10</td>\n",
       "    </tr>\n",
       "    <tr>\n",
       "      <th>1</th>\n",
       "      <td>1.335380</td>\n",
       "      <td>-1.314555</td>\n",
       "      <td>-0.020567</td>\n",
       "      <td>-1.035038</td>\n",
       "      <td>-2.263529</td>\n",
       "      <td>-2.267028</td>\n",
       "      <td>-2.331807</td>\n",
       "      <td>-2.231137</td>\n",
       "      <td>2.056392</td>\n",
       "      <td>-2.282445</td>\n",
       "      <td>...</td>\n",
       "      <td>0.999923</td>\n",
       "      <td>0.999680</td>\n",
       "      <td>0.999662</td>\n",
       "      <td>0.999974</td>\n",
       "      <td>0.999876</td>\n",
       "      <td>0.999943</td>\n",
       "      <td>0.999947</td>\n",
       "      <td>0.999840</td>\n",
       "      <td>0</td>\n",
       "      <td>10</td>\n",
       "    </tr>\n",
       "    <tr>\n",
       "      <th>2</th>\n",
       "      <td>1.498894</td>\n",
       "      <td>-1.314555</td>\n",
       "      <td>0.120572</td>\n",
       "      <td>-1.035038</td>\n",
       "      <td>-2.236884</td>\n",
       "      <td>-2.201349</td>\n",
       "      <td>-2.305519</td>\n",
       "      <td>-2.231137</td>\n",
       "      <td>2.056392</td>\n",
       "      <td>-2.277585</td>\n",
       "      <td>...</td>\n",
       "      <td>0.999922</td>\n",
       "      <td>0.999768</td>\n",
       "      <td>0.999689</td>\n",
       "      <td>0.999972</td>\n",
       "      <td>0.999891</td>\n",
       "      <td>0.999942</td>\n",
       "      <td>0.999947</td>\n",
       "      <td>0.999848</td>\n",
       "      <td>0</td>\n",
       "      <td>10</td>\n",
       "    </tr>\n",
       "    <tr>\n",
       "      <th>3</th>\n",
       "      <td>1.600806</td>\n",
       "      <td>-1.396708</td>\n",
       "      <td>0.120572</td>\n",
       "      <td>-0.725140</td>\n",
       "      <td>-2.236884</td>\n",
       "      <td>-2.256500</td>\n",
       "      <td>-2.331807</td>\n",
       "      <td>-2.231137</td>\n",
       "      <td>2.046760</td>\n",
       "      <td>-2.277585</td>\n",
       "      <td>...</td>\n",
       "      <td>0.999889</td>\n",
       "      <td>0.999650</td>\n",
       "      <td>0.999694</td>\n",
       "      <td>0.999975</td>\n",
       "      <td>0.999890</td>\n",
       "      <td>0.999942</td>\n",
       "      <td>0.999945</td>\n",
       "      <td>0.999838</td>\n",
       "      <td>0</td>\n",
       "      <td>10</td>\n",
       "    </tr>\n",
       "    <tr>\n",
       "      <th>4</th>\n",
       "      <td>1.654722</td>\n",
       "      <td>-1.396708</td>\n",
       "      <td>0.120572</td>\n",
       "      <td>-0.725140</td>\n",
       "      <td>-2.236884</td>\n",
       "      <td>-2.201349</td>\n",
       "      <td>-2.365389</td>\n",
       "      <td>-2.231137</td>\n",
       "      <td>2.046760</td>\n",
       "      <td>-2.277585</td>\n",
       "      <td>...</td>\n",
       "      <td>0.999899</td>\n",
       "      <td>0.999712</td>\n",
       "      <td>0.999702</td>\n",
       "      <td>0.999964</td>\n",
       "      <td>0.999897</td>\n",
       "      <td>0.999946</td>\n",
       "      <td>0.999950</td>\n",
       "      <td>0.999812</td>\n",
       "      <td>0</td>\n",
       "      <td>10</td>\n",
       "    </tr>\n",
       "    <tr>\n",
       "      <th>...</th>\n",
       "      <td>...</td>\n",
       "      <td>...</td>\n",
       "      <td>...</td>\n",
       "      <td>...</td>\n",
       "      <td>...</td>\n",
       "      <td>...</td>\n",
       "      <td>...</td>\n",
       "      <td>...</td>\n",
       "      <td>...</td>\n",
       "      <td>...</td>\n",
       "      <td>...</td>\n",
       "      <td>...</td>\n",
       "      <td>...</td>\n",
       "      <td>...</td>\n",
       "      <td>...</td>\n",
       "      <td>...</td>\n",
       "      <td>...</td>\n",
       "      <td>...</td>\n",
       "      <td>...</td>\n",
       "      <td>...</td>\n",
       "      <td>...</td>\n",
       "    </tr>\n",
       "    <tr>\n",
       "      <th>168101</th>\n",
       "      <td>-0.057193</td>\n",
       "      <td>0.498051</td>\n",
       "      <td>-0.215460</td>\n",
       "      <td>0.625567</td>\n",
       "      <td>0.232447</td>\n",
       "      <td>0.771508</td>\n",
       "      <td>0.314568</td>\n",
       "      <td>0.204524</td>\n",
       "      <td>0.258195</td>\n",
       "      <td>0.622358</td>\n",
       "      <td>...</td>\n",
       "      <td>0.999334</td>\n",
       "      <td>0.999943</td>\n",
       "      <td>0.999871</td>\n",
       "      <td>0.999968</td>\n",
       "      <td>0.999864</td>\n",
       "      <td>0.999773</td>\n",
       "      <td>0.999841</td>\n",
       "      <td>0.999885</td>\n",
       "      <td>3</td>\n",
       "      <td>10</td>\n",
       "    </tr>\n",
       "    <tr>\n",
       "      <th>168102</th>\n",
       "      <td>-0.057193</td>\n",
       "      <td>0.498051</td>\n",
       "      <td>-0.215460</td>\n",
       "      <td>0.630449</td>\n",
       "      <td>0.232447</td>\n",
       "      <td>0.776801</td>\n",
       "      <td>0.314568</td>\n",
       "      <td>0.201334</td>\n",
       "      <td>0.261557</td>\n",
       "      <td>0.621141</td>\n",
       "      <td>...</td>\n",
       "      <td>0.999370</td>\n",
       "      <td>0.999942</td>\n",
       "      <td>0.999868</td>\n",
       "      <td>0.999964</td>\n",
       "      <td>0.999876</td>\n",
       "      <td>0.999776</td>\n",
       "      <td>0.999852</td>\n",
       "      <td>0.999871</td>\n",
       "      <td>3</td>\n",
       "      <td>10</td>\n",
       "    </tr>\n",
       "    <tr>\n",
       "      <th>168103</th>\n",
       "      <td>-0.124394</td>\n",
       "      <td>0.508909</td>\n",
       "      <td>-0.215460</td>\n",
       "      <td>0.631343</td>\n",
       "      <td>0.232447</td>\n",
       "      <td>0.792386</td>\n",
       "      <td>0.314568</td>\n",
       "      <td>0.204499</td>\n",
       "      <td>0.261557</td>\n",
       "      <td>0.621141</td>\n",
       "      <td>...</td>\n",
       "      <td>0.999366</td>\n",
       "      <td>0.999947</td>\n",
       "      <td>0.999859</td>\n",
       "      <td>0.999966</td>\n",
       "      <td>0.999872</td>\n",
       "      <td>0.999767</td>\n",
       "      <td>0.999871</td>\n",
       "      <td>0.999886</td>\n",
       "      <td>3</td>\n",
       "      <td>10</td>\n",
       "    </tr>\n",
       "    <tr>\n",
       "      <th>168104</th>\n",
       "      <td>-0.124394</td>\n",
       "      <td>0.498051</td>\n",
       "      <td>-0.215460</td>\n",
       "      <td>0.630449</td>\n",
       "      <td>0.232447</td>\n",
       "      <td>0.792386</td>\n",
       "      <td>0.313297</td>\n",
       "      <td>0.199930</td>\n",
       "      <td>0.261557</td>\n",
       "      <td>0.619374</td>\n",
       "      <td>...</td>\n",
       "      <td>0.999344</td>\n",
       "      <td>0.999937</td>\n",
       "      <td>0.999857</td>\n",
       "      <td>0.999966</td>\n",
       "      <td>0.999874</td>\n",
       "      <td>0.999779</td>\n",
       "      <td>0.999869</td>\n",
       "      <td>0.999878</td>\n",
       "      <td>3</td>\n",
       "      <td>10</td>\n",
       "    </tr>\n",
       "    <tr>\n",
       "      <th>168105</th>\n",
       "      <td>-0.205290</td>\n",
       "      <td>0.489667</td>\n",
       "      <td>-0.218635</td>\n",
       "      <td>0.625567</td>\n",
       "      <td>0.216224</td>\n",
       "      <td>0.776801</td>\n",
       "      <td>0.311392</td>\n",
       "      <td>0.199930</td>\n",
       "      <td>0.254480</td>\n",
       "      <td>0.618200</td>\n",
       "      <td>...</td>\n",
       "      <td>0.999319</td>\n",
       "      <td>0.999945</td>\n",
       "      <td>0.999873</td>\n",
       "      <td>0.999969</td>\n",
       "      <td>0.999875</td>\n",
       "      <td>0.999783</td>\n",
       "      <td>0.999870</td>\n",
       "      <td>0.999867</td>\n",
       "      <td>3</td>\n",
       "      <td>10</td>\n",
       "    </tr>\n",
       "  </tbody>\n",
       "</table>\n",
       "<p>168106 rows × 33 columns</p>\n",
       "</div>"
      ],
      "text/plain": [
       "           Hip x     Hip y    Knee x    Knee y   Ankle x   Ankle y  \\\n",
       "0       0.737044 -1.314555 -0.575300 -1.098360 -2.274634 -2.267028   \n",
       "1       1.335380 -1.314555 -0.020567 -1.035038 -2.263529 -2.267028   \n",
       "2       1.498894 -1.314555  0.120572 -1.035038 -2.236884 -2.201349   \n",
       "3       1.600806 -1.396708  0.120572 -0.725140 -2.236884 -2.256500   \n",
       "4       1.654722 -1.396708  0.120572 -0.725140 -2.236884 -2.201349   \n",
       "...          ...       ...       ...       ...       ...       ...   \n",
       "168101 -0.057193  0.498051 -0.215460  0.625567  0.232447  0.771508   \n",
       "168102 -0.057193  0.498051 -0.215460  0.630449  0.232447  0.776801   \n",
       "168103 -0.124394  0.508909 -0.215460  0.631343  0.232447  0.792386   \n",
       "168104 -0.124394  0.498051 -0.215460  0.630449  0.232447  0.792386   \n",
       "168105 -0.205290  0.489667 -0.218635  0.625567  0.216224  0.776801   \n",
       "\n",
       "        Heel (ventral) x  Heel (ventral) y  Instep (dorsal) x  \\\n",
       "0              -2.365389         -2.256856           2.056392   \n",
       "1              -2.331807         -2.231137           2.056392   \n",
       "2              -2.305519         -2.231137           2.056392   \n",
       "3              -2.331807         -2.231137           2.046760   \n",
       "4              -2.365389         -2.231137           2.046760   \n",
       "...                  ...               ...                ...   \n",
       "168101          0.314568          0.204524           0.258195   \n",
       "168102          0.314568          0.201334           0.261557   \n",
       "168103          0.314568          0.204499           0.261557   \n",
       "168104          0.313297          0.199930           0.261557   \n",
       "168105          0.311392          0.199930           0.254480   \n",
       "\n",
       "        Instep (dorsal) y  ...  Ankle likelihood  Heel (ventral) likelihood  \\\n",
       "0               -2.282445  ...          0.999928                   0.999661   \n",
       "1               -2.282445  ...          0.999923                   0.999680   \n",
       "2               -2.277585  ...          0.999922                   0.999768   \n",
       "3               -2.277585  ...          0.999889                   0.999650   \n",
       "4               -2.277585  ...          0.999899                   0.999712   \n",
       "...                   ...  ...               ...                        ...   \n",
       "168101           0.622358  ...          0.999334                   0.999943   \n",
       "168102           0.621141  ...          0.999370                   0.999942   \n",
       "168103           0.621141  ...          0.999366                   0.999947   \n",
       "168104           0.619374  ...          0.999344                   0.999937   \n",
       "168105           0.618200  ...          0.999319                   0.999945   \n",
       "\n",
       "        Instep (dorsal) likelihood  Toe 1 (Proximal Thumb) likelihood  \\\n",
       "0                         0.999645                           0.999971   \n",
       "1                         0.999662                           0.999974   \n",
       "2                         0.999689                           0.999972   \n",
       "3                         0.999694                           0.999975   \n",
       "4                         0.999702                           0.999964   \n",
       "...                            ...                                ...   \n",
       "168101                    0.999871                           0.999968   \n",
       "168102                    0.999868                           0.999964   \n",
       "168103                    0.999859                           0.999966   \n",
       "168104                    0.999857                           0.999966   \n",
       "168105                    0.999873                           0.999969   \n",
       "\n",
       "        Toe2 likelihood  Toe 3 (Middle) likelihood  Toe4 likelihood  \\\n",
       "0              0.999903                   0.999949         0.999935   \n",
       "1              0.999876                   0.999943         0.999947   \n",
       "2              0.999891                   0.999942         0.999947   \n",
       "3              0.999890                   0.999942         0.999945   \n",
       "4              0.999897                   0.999946         0.999950   \n",
       "...                 ...                        ...              ...   \n",
       "168101         0.999864                   0.999773         0.999841   \n",
       "168102         0.999876                   0.999776         0.999852   \n",
       "168103         0.999872                   0.999767         0.999871   \n",
       "168104         0.999874                   0.999779         0.999869   \n",
       "168105         0.999875                   0.999783         0.999870   \n",
       "\n",
       "        Toe 5 (Distal Pinky) likelihood  FileID  Batch  \n",
       "0                              0.999867       0     10  \n",
       "1                              0.999840       0     10  \n",
       "2                              0.999848       0     10  \n",
       "3                              0.999838       0     10  \n",
       "4                              0.999812       0     10  \n",
       "...                                 ...     ...    ...  \n",
       "168101                         0.999885       3     10  \n",
       "168102                         0.999871       3     10  \n",
       "168103                         0.999886       3     10  \n",
       "168104                         0.999878       3     10  \n",
       "168105                         0.999867       3     10  \n",
       "\n",
       "[168106 rows x 33 columns]"
      ]
     },
     "execution_count": 22,
     "metadata": {},
     "output_type": "execute_result"
    }
   ],
   "source": [
    "batch_folder = \"E:/UofT/ECE2500/batch10\"  # Replace with the actual path\n",
    "video_format = \"mp4\"  \n",
    "skiprows = 0  \n",
    "sep = \",\"  \n",
    "decimal = \".\"  \n",
    "batch_number = 10\n",
    "\n",
    "# Run the function\n",
    "scaled_data, video_files, csv_files = load_and_scale_data(\n",
    "    batch_folder, video_format, skiprows, sep, decimal, batch_number\n",
    ")\n",
    "scaled_data"
   ]
  },
  {
   "cell_type": "code",
   "execution_count": 40,
   "metadata": {},
   "outputs": [],
   "source": [
    "def perform_umap_clustering(data, n_components, n_neighbors, min_dist):\n",
    "    umap_embedding = umap.UMAP(n_neighbors=int(n_neighbors), min_dist=min_dist, n_components=int(n_components), random_state=42).fit_transform(data)\n",
    "    return umap_embedding"
   ]
  },
  {
   "cell_type": "code",
   "execution_count": 52,
   "metadata": {},
   "outputs": [],
   "source": [
    "def find_optimal_umap_and_clustering(data, use_hdbscan, n_neighbors_range, min_dist_range, n_components_range, n_clusters_range=None, min_cluster_size_range=None, min_samples_range=None):\n",
    "    def umap_hdbscan_evaluate(n_neighbors, min_dist, n_components, min_cluster_size, min_samples):\n",
    "        umap_embedding = perform_umap_clustering(data, n_components=n_components, n_neighbors=n_neighbors, min_dist=min_dist)\n",
    "        clusterer = hdbscan.HDBSCAN(min_cluster_size=int(min_cluster_size), min_samples=int(min_samples))\n",
    "        clusterer.fit(umap_embedding)\n",
    "        labels = clusterer.labels_\n",
    "        if len(set(labels)) > 1 and len(set(labels)) != 0:\n",
    "            return silhouette_score(umap_embedding, labels)\n",
    "        else:\n",
    "            return -1\n",
    "\n",
    "    def umap_kmeans_evaluate(n_neighbors, min_dist, n_components, n_clusters):\n",
    "        umap_embedding = perform_umap_clustering(data, n_components=n_components, n_neighbors=n_neighbors, min_dist=min_dist)\n",
    "        kmeans = KMeans(n_clusters=int(n_clusters), random_state=42)\n",
    "        labels = kmeans.fit_predict(umap_embedding)\n",
    "        if len(set(labels)) > 1:\n",
    "            return silhouette_score(umap_embedding, labels)\n",
    "        else:\n",
    "            return -1\n",
    "\n",
    "    best_score = -1\n",
    "    best_params = {}\n",
    "    best_labels = None\n",
    "    best_umap_embedding = None\n",
    "\n",
    "    if use_hdbscan:\n",
    "        pbounds = {\n",
    "            'n_neighbors': (min(n_neighbors_range), max(n_neighbors_range)),\n",
    "            'min_dist': (min(min_dist_range), max(min_dist_range)),\n",
    "            'n_components': (min(n_components_range), max(n_components_range)),\n",
    "            'min_cluster_size': (min(min_cluster_size_range), max(min_cluster_size_range)),\n",
    "            'min_samples': (min(min_samples_range), max(min_samples_range))\n",
    "        }\n",
    "        optimizer = BayesianOptimization(\n",
    "            f=umap_hdbscan_evaluate,\n",
    "            pbounds=pbounds,\n",
    "            random_state=42\n",
    "        )\n",
    "        optimizer.maximize(init_points=2, n_iter=30)\n",
    "\n",
    "        best_params = optimizer.max['params']\n",
    "        best_umap_embedding = perform_umap_clustering(data, n_components=best_params['n_components'], n_neighbors=best_params['n_neighbors'], min_dist=best_params['min_dist'])\n",
    "        clusterer = hdbscan.HDBSCAN(min_cluster_size=int(best_params['min_cluster_size']), min_samples=int(best_params['min_samples']))\n",
    "        clusterer.fit(best_umap_embedding)\n",
    "        best_labels = clusterer.labels_\n",
    "        best_score = optimizer.max['target']\n",
    "\n",
    "    else:\n",
    "        pbounds = {\n",
    "            'n_neighbors': (min(n_neighbors_range), max(n_neighbors_range)),\n",
    "            'min_dist': (min(min_dist_range), max(min_dist_range)),\n",
    "            'n_components': (min(n_components_range), max(n_components_range)),\n",
    "            'n_clusters': (min(n_clusters_range), max(n_clusters_range))\n",
    "        }\n",
    "        optimizer = BayesianOptimization(\n",
    "            f=umap_kmeans_evaluate,\n",
    "            pbounds=pbounds,\n",
    "            random_state=42\n",
    "        )\n",
    "        optimizer.maximize(init_points=2, n_iter=30)\n",
    "\n",
    "        best_params = optimizer.max['params']\n",
    "        best_umap_embedding = perform_umap_clustering(data, n_components=best_params['n_components'], n_neighbors=best_params['n_neighbors'], min_dist=best_params['min_dist'])\n",
    "        kmeans = KMeans(n_clusters=int(best_params['n_clusters']), random_state=42)\n",
    "        best_labels = kmeans.fit_predict(best_umap_embedding)\n",
    "        best_score = optimizer.max['target']\n",
    "\n",
    "    print(f\"Best UMAP and Clustering Parameters: {best_params}\")\n",
    "    print(f\"Best Silhouette Score: {best_score}\")\n",
    "    return best_umap_embedding, best_labels, best_params"
   ]
  },
  {
   "cell_type": "code",
   "execution_count": 25,
   "metadata": {},
   "outputs": [],
   "source": [
    "def get_cluster_sequences(df, labels):\n",
    "    df['Cluster'] = labels\n",
    "    cluster_sequences = {}\n",
    "    for cluster in df['Cluster'].unique():\n",
    "        if cluster == -1:  # Skip noise points\n",
    "            continue\n",
    "        cluster_data = df[df['Cluster'] == cluster]\n",
    "        sequences = []\n",
    "        current_sequence = []\n",
    "        previous_time = None\n",
    "        for _, row in cluster_data.iterrows():\n",
    "            time_value = row['Time']\n",
    "            if previous_time is None or time_value == previous_time + 1:\n",
    "                current_sequence.append(row)\n",
    "            else:\n",
    "                if current_sequence:\n",
    "                    sequences.append(pd.DataFrame(current_sequence))\n",
    "                current_sequence = [row]\n",
    "            previous_time = time_value\n",
    "        \n",
    "        if current_sequence:\n",
    "            sequences.append(pd.DataFrame(current_sequence))\n",
    "        \n",
    "        # Check assigned FileIDs in the sequences\n",
    "        for seq in sequences:\n",
    "            print(f\"Cluster {cluster}, FileID in sequence: {seq['FileID'].iloc[0]}\")\n",
    "        \n",
    "        cluster_sequences[cluster] = sequences\n",
    "    return cluster_sequences"
   ]
  },
  {
   "cell_type": "code",
   "execution_count": 26,
   "metadata": {},
   "outputs": [],
   "source": [
    "def create_video(sequence, output_filename, video_files, fps):\n",
    "    batch_number = int(sequence['Batch'].iloc[0])\n",
    "    file_id = int(sequence['FileID'].iloc[0])\n",
    "    \n",
    "    # Check for valid FileID within range\n",
    "    if file_id >= len(video_files) or file_id < 0:\n",
    "        print(f\"Error: FileID {file_id} is out of range for the available video files.\")\n",
    "        return\n",
    "\n",
    "    video_file = video_files[file_id]\n",
    "    print(f\"Creating video from file: {video_file}\")\n",
    "    \n",
    "    cap = cv2.VideoCapture(video_file)\n",
    "    if not cap.isOpened():\n",
    "        print(f\"Error: Cannot open video file {video_file}\")\n",
    "        return\n",
    "\n",
    "    frame_width = int(cap.get(cv2.CAP_PROP_FRAME_WIDTH))\n",
    "    frame_height = int(cap.get(cv2.CAP_PROP_FRAME_HEIGHT))\n",
    "\n",
    "    out = cv2.VideoWriter(output_filename, cv2.VideoWriter_fourcc(*'mp4v'), fps, (frame_width, frame_height))\n",
    "    empty_frames = 0\n",
    "    \n",
    "    total_frames = int(cap.get(cv2.CAP_PROP_FRAME_COUNT))\n",
    "    for time_index in sequence['Time']:\n",
    "        if time_index >= 0 and time_index < total_frames:\n",
    "            cap.set(cv2.CAP_PROP_POS_FRAMES, time_index)\n",
    "            ret, frame = cap.read()\n",
    "            if ret:\n",
    "                out.write(frame)\n",
    "            else:\n",
    "                empty_frames += 1\n",
    "                print(f\"Frame at {time_index} in file {video_file} could not be read.\")\n",
    "        else:\n",
    "            empty_frames += 1\n",
    "            print(f\"Invalid frame index {time_index} for file {video_file}. Total frames: {total_frames}\")\n",
    "    \n",
    "    if empty_frames > 0:\n",
    "        print(f\"Video {output_filename} has {empty_frames} frames that could not be read.\")\n",
    "    \n",
    "    cap.release()\n",
    "    out.release()\n",
    "    print(f'Video saved at: {output_filename}')\n"
   ]
  },
  {
   "cell_type": "code",
   "execution_count": 27,
   "metadata": {},
   "outputs": [],
   "source": [
    "def combine_cluster_videos(cluster_folder, combined_output_filename, fps):\n",
    "    video_files = sorted(glob.glob(os.path.join(cluster_folder, '*.mp4')))\n",
    "    if not video_files:\n",
    "        print(f\"No videos found in {cluster_folder} to combine.\")\n",
    "        return\n",
    "\n",
    "    print(f\"Combining videos from {cluster_folder} into {combined_output_filename}\")\n",
    "    first_video_file = video_files[0]\n",
    "    cap = cv2.VideoCapture(first_video_file)\n",
    "    if not cap.isOpened():\n",
    "        print(f\"Error: Cannot open video file {first_video_file}\")\n",
    "        return\n",
    "\n",
    "    frame_width = int(cap.get(cv2.CAP_PROP_FRAME_WIDTH))\n",
    "    frame_height = int(cap.get(cv2.CAP_PROP_FRAME_HEIGHT))\n",
    "    cap.release()\n",
    "\n",
    "    out = cv2.VideoWriter(combined_output_filename, cv2.VideoWriter_fourcc(*'mp4v'), fps, (frame_width, frame_height))\n",
    "\n",
    "    for video_file in video_files:\n",
    "        cap = cv2.VideoCapture(video_file)\n",
    "        if not cap.isOpened():\n",
    "            print(f\"Error: Cannot open video file {video_file}\")\n",
    "            continue\n",
    "        while True:\n",
    "            ret, frame = cap.read()\n",
    "            if not ret:\n",
    "                break\n",
    "            out.write(frame)\n",
    "        cap.release()\n",
    "    out.release()\n",
    "    print(f\"Combined video saved at: {combined_output_filename}\")"
   ]
  },
  {
   "cell_type": "code",
   "execution_count": 49,
   "metadata": {},
   "outputs": [],
   "source": [
    "def process_batch(batch_folder, video_format, skiprows, sep, decimal, batch_number, use_hdbscan, n_neighbors_range, min_dist_range, n_components_range, n_clusters_range, min_cluster_size_range, min_samples_range, output_folder, fps):\n",
    "    data, video_files, csv_files = load_and_scale_data(batch_folder, video_format, skiprows, sep, decimal, batch_number)\n",
    "    umap_embedding, labels, best_params = find_optimal_umap_and_clustering(data.select_dtypes(include=[np.number]), use_hdbscan, n_neighbors_range, min_dist_range, n_components_range, n_clusters_range, min_cluster_size_range, min_samples_range)\n",
    "    \n",
    "    optimal_num_clusters = best_params.get('n_clusters', len(set(labels)) - (1 if -1 in labels else 0))  # Use the optimal number of clusters\n",
    "\n",
    "    # Update cluster sequences based on the optimal number of clusters\n",
    "    cluster_sequences = get_cluster_sequences(data, labels)\n",
    "    clustering_method = \"HDBSCAN\" if use_hdbscan else \"KMeans\"\n",
    "    batch_output_folder = os.path.join(output_folder, f'batch_{batch_number}', f'Umap+{clustering_method}')\n",
    "    if not os.path.exists(batch_output_folder):\n",
    "        os.makedirs(batch_output_folder)\n",
    "\n",
    "    max_sequence_length = max(len(sequences) for sequences in cluster_sequences.values())\n",
    "    regrouped_sequences = [[] for _ in range(max_sequence_length)]\n",
    "    for cluster, sequences in cluster_sequences.items():\n",
    "        for i, sequence in enumerate(sequences):\n",
    "            regrouped_sequences[i].append(sequence)\n",
    "\n",
    "    # Create videos \n",
    "    for i, sequences in enumerate(regrouped_sequences):\n",
    "        if i >= optimal_num_clusters:  \n",
    "            break\n",
    "        regrouped_folder = os.path.join(batch_output_folder, f'cluster_{i}')\n",
    "        if not os.path.exists(regrouped_folder):\n",
    "            os.makedirs(regrouped_folder)\n",
    "        for j, sequence in enumerate(sequences):\n",
    "            output_filename = os.path.join(regrouped_folder, f'cluster_{i}_sequence_{j+1}.mp4')\n",
    "            create_video(sequence, output_filename, video_files, fps)\n",
    "\n",
    "    for i in range(optimal_num_clusters):\n",
    "        regrouped_folder = os.path.join(batch_output_folder, f'cluster_{i}')\n",
    "        combined_output_filename = os.path.join(batch_output_folder, f'cluster_{i}_combined_sequences.mp4')\n",
    "        combine_cluster_videos(regrouped_folder, combined_output_filename, fps)"
   ]
  },
  {
   "cell_type": "code",
   "execution_count": 50,
   "metadata": {},
   "outputs": [
    {
     "name": "stdout",
     "output_type": "stream",
     "text": [
      "E:/UofT/ECE2500/batch1/*.avi\n",
      "['E:/UofT/ECE2500/batch1\\\\120_kSa_3p3_V_-340mV_offsetDLC_resnet50_ece2500yJan17shuffle1_100000_filtered.csv', 'E:/UofT/ECE2500/batch1\\\\30_kSa_3p3_V_-340mV_offsetDLC_resnet50_ece2500yJan17shuffle1_100000_filtered.csv', 'E:/UofT/ECE2500/batch1\\\\90_kSa_3p3_V_-340mV_offsetDLC_resnet50_ece2500yJan17shuffle1_100000_filtered.csv', 'E:/UofT/ECE2500/batch1\\\\9_kSa_3p3_V_-340mV_offsetDLC_resnet50_ece2500yJan17shuffle1_100000_filtered.csv']\n",
      "|   iter    |  target   | min_cl... | min_dist  | min_sa... | n_comp... | n_neig... |\n",
      "-------------------------------------------------------------------------------------\n"
     ]
    },
    {
     "name": "stderr",
     "output_type": "stream",
     "text": [
      "e:\\Anaconda1\\envs\\env_ml\\Lib\\site-packages\\umap\\umap_.py:1945: UserWarning: n_jobs value 1 overridden to 1 by setting random_state. Use no seed for parallelism.\n",
      "  warn(f\"n_jobs value {self.n_jobs} overridden to 1 by setting random_state. Use no seed for parallelism.\")\n"
     ]
    },
    {
     "name": "stdout",
     "output_type": "stream",
     "text": [
      "| \u001b[39m1        \u001b[39m | \u001b[39m0.1935   \u001b[39m | \u001b[39m40.58    \u001b[39m | \u001b[39m0.9507   \u001b[39m | \u001b[39m73.47    \u001b[39m | \u001b[39m7.388    \u001b[39m | \u001b[39m51.03    \u001b[39m |\n"
     ]
    },
    {
     "name": "stderr",
     "output_type": "stream",
     "text": [
      "e:\\Anaconda1\\envs\\env_ml\\Lib\\site-packages\\umap\\umap_.py:1945: UserWarning: n_jobs value 1 overridden to 1 by setting random_state. Use no seed for parallelism.\n",
      "  warn(f\"n_jobs value {self.n_jobs} overridden to 1 by setting random_state. Use no seed for parallelism.\")\n"
     ]
    },
    {
     "name": "stdout",
     "output_type": "stream",
     "text": [
      "| \u001b[35m2        \u001b[39m | \u001b[35m0.2174   \u001b[39m | \u001b[35m19.82    \u001b[39m | \u001b[35m0.05808  \u001b[39m | \u001b[35m86.75    \u001b[39m | \u001b[35m7.41     \u001b[39m | \u001b[35m213.9    \u001b[39m |\n"
     ]
    },
    {
     "name": "stderr",
     "output_type": "stream",
     "text": [
      "e:\\Anaconda1\\envs\\env_ml\\Lib\\site-packages\\umap\\umap_.py:1945: UserWarning: n_jobs value 1 overridden to 1 by setting random_state. Use no seed for parallelism.\n",
      "  warn(f\"n_jobs value {self.n_jobs} overridden to 1 by setting random_state. Use no seed for parallelism.\")\n"
     ]
    },
    {
     "name": "stdout",
     "output_type": "stream",
     "text": [
      "| \u001b[35m3        \u001b[39m | \u001b[35m0.5101   \u001b[39m | \u001b[35m18.25    \u001b[39m | \u001b[35m0.5692   \u001b[39m | \u001b[35m86.93    \u001b[39m | \u001b[35m7.248    \u001b[39m | \u001b[35m216.8    \u001b[39m |\n"
     ]
    },
    {
     "name": "stderr",
     "output_type": "stream",
     "text": [
      "e:\\Anaconda1\\envs\\env_ml\\Lib\\site-packages\\umap\\umap_.py:1945: UserWarning: n_jobs value 1 overridden to 1 by setting random_state. Use no seed for parallelism.\n",
      "  warn(f\"n_jobs value {self.n_jobs} overridden to 1 by setting random_state. Use no seed for parallelism.\")\n"
     ]
    },
    {
     "name": "stdout",
     "output_type": "stream",
     "text": [
      "| \u001b[39m4        \u001b[39m | \u001b[39m0.3213   \u001b[39m | \u001b[39m91.11    \u001b[39m | \u001b[39m0.1054   \u001b[39m | \u001b[39m15.58    \u001b[39m | \u001b[39m10.33    \u001b[39m | \u001b[39m232.4    \u001b[39m |\n"
     ]
    },
    {
     "name": "stderr",
     "output_type": "stream",
     "text": [
      "e:\\Anaconda1\\envs\\env_ml\\Lib\\site-packages\\umap\\umap_.py:1945: UserWarning: n_jobs value 1 overridden to 1 by setting random_state. Use no seed for parallelism.\n",
      "  warn(f\"n_jobs value {self.n_jobs} overridden to 1 by setting random_state. Use no seed for parallelism.\")\n"
     ]
    },
    {
     "name": "stdout",
     "output_type": "stream",
     "text": [
      "| \u001b[39m5        \u001b[39m | \u001b[39m0.3613   \u001b[39m | \u001b[39m60.48    \u001b[39m | \u001b[39m0.04778  \u001b[39m | \u001b[39m4.545    \u001b[39m | \u001b[39m2.941    \u001b[39m | \u001b[39m73.79    \u001b[39m |\n"
     ]
    },
    {
     "name": "stderr",
     "output_type": "stream",
     "text": [
      "e:\\Anaconda1\\envs\\env_ml\\Lib\\site-packages\\umap\\umap_.py:1945: UserWarning: n_jobs value 1 overridden to 1 by setting random_state. Use no seed for parallelism.\n",
      "  warn(f\"n_jobs value {self.n_jobs} overridden to 1 by setting random_state. Use no seed for parallelism.\")\n"
     ]
    },
    {
     "name": "stdout",
     "output_type": "stream",
     "text": [
      "| \u001b[39m6        \u001b[39m | \u001b[39m0.2565   \u001b[39m | \u001b[39m49.52    \u001b[39m | \u001b[39m0.993    \u001b[39m | \u001b[39m92.26    \u001b[39m | \u001b[39m5.886    \u001b[39m | \u001b[39m98.08    \u001b[39m |\n"
     ]
    },
    {
     "name": "stderr",
     "output_type": "stream",
     "text": [
      "e:\\Anaconda1\\envs\\env_ml\\Lib\\site-packages\\umap\\umap_.py:1945: UserWarning: n_jobs value 1 overridden to 1 by setting random_state. Use no seed for parallelism.\n",
      "  warn(f\"n_jobs value {self.n_jobs} overridden to 1 by setting random_state. Use no seed for parallelism.\")\n"
     ]
    },
    {
     "name": "stdout",
     "output_type": "stream",
     "text": [
      "| \u001b[39m7        \u001b[39m | \u001b[39m0.2873   \u001b[39m | \u001b[39m81.72    \u001b[39m | \u001b[39m0.1758   \u001b[39m | \u001b[39m32.36    \u001b[39m | \u001b[39m4.42     \u001b[39m | \u001b[39m219.1    \u001b[39m |\n"
     ]
    },
    {
     "name": "stderr",
     "output_type": "stream",
     "text": [
      "e:\\Anaconda1\\envs\\env_ml\\Lib\\site-packages\\umap\\umap_.py:1945: UserWarning: n_jobs value 1 overridden to 1 by setting random_state. Use no seed for parallelism.\n",
      "  warn(f\"n_jobs value {self.n_jobs} overridden to 1 by setting random_state. Use no seed for parallelism.\")\n"
     ]
    },
    {
     "name": "stdout",
     "output_type": "stream",
     "text": [
      "| \u001b[39m8        \u001b[39m | \u001b[39m0.4141   \u001b[39m | \u001b[39m51.67    \u001b[39m | \u001b[39m0.2557   \u001b[39m | \u001b[39m73.78    \u001b[39m | \u001b[39m7.362    \u001b[39m | \u001b[39m240.4    \u001b[39m |\n"
     ]
    },
    {
     "name": "stderr",
     "output_type": "stream",
     "text": [
      "e:\\Anaconda1\\envs\\env_ml\\Lib\\site-packages\\umap\\umap_.py:1945: UserWarning: n_jobs value 1 overridden to 1 by setting random_state. Use no seed for parallelism.\n",
      "  warn(f\"n_jobs value {self.n_jobs} overridden to 1 by setting random_state. Use no seed for parallelism.\")\n"
     ]
    },
    {
     "name": "stdout",
     "output_type": "stream",
     "text": [
      "| \u001b[39m9        \u001b[39m | \u001b[39m0.02214  \u001b[39m | \u001b[39m12.17    \u001b[39m | \u001b[39m0.8119   \u001b[39m | \u001b[39m47.2     \u001b[39m | \u001b[39m4.752    \u001b[39m | \u001b[39m93.13    \u001b[39m |\n"
     ]
    },
    {
     "name": "stderr",
     "output_type": "stream",
     "text": [
      "e:\\Anaconda1\\envs\\env_ml\\Lib\\site-packages\\umap\\umap_.py:1945: UserWarning: n_jobs value 1 overridden to 1 by setting random_state. Use no seed for parallelism.\n",
      "  warn(f\"n_jobs value {self.n_jobs} overridden to 1 by setting random_state. Use no seed for parallelism.\")\n"
     ]
    },
    {
     "name": "stdout",
     "output_type": "stream",
     "text": [
      "| \u001b[39m10       \u001b[39m | \u001b[39m0.1919   \u001b[39m | \u001b[39m50.24    \u001b[39m | \u001b[39m0.04797  \u001b[39m | \u001b[39m73.35    \u001b[39m | \u001b[39m7.561    \u001b[39m | \u001b[39m240.3    \u001b[39m |\n"
     ]
    },
    {
     "name": "stderr",
     "output_type": "stream",
     "text": [
      "e:\\Anaconda1\\envs\\env_ml\\Lib\\site-packages\\umap\\umap_.py:1945: UserWarning: n_jobs value 1 overridden to 1 by setting random_state. Use no seed for parallelism.\n",
      "  warn(f\"n_jobs value {self.n_jobs} overridden to 1 by setting random_state. Use no seed for parallelism.\")\n"
     ]
    },
    {
     "name": "stdout",
     "output_type": "stream",
     "text": [
      "| \u001b[39m11       \u001b[39m | \u001b[39m0.3815   \u001b[39m | \u001b[39m74.17    \u001b[39m | \u001b[39m0.6675   \u001b[39m | \u001b[39m99.46    \u001b[39m | \u001b[39m5.659    \u001b[39m | \u001b[39m163.9    \u001b[39m |\n"
     ]
    },
    {
     "name": "stderr",
     "output_type": "stream",
     "text": [
      "e:\\Anaconda1\\envs\\env_ml\\Lib\\site-packages\\umap\\umap_.py:1945: UserWarning: n_jobs value 1 overridden to 1 by setting random_state. Use no seed for parallelism.\n",
      "  warn(f\"n_jobs value {self.n_jobs} overridden to 1 by setting random_state. Use no seed for parallelism.\")\n"
     ]
    },
    {
     "name": "stdout",
     "output_type": "stream",
     "text": [
      "| \u001b[39m12       \u001b[39m | \u001b[39m0.2287   \u001b[39m | \u001b[39m17.69    \u001b[39m | \u001b[39m0.7373   \u001b[39m | \u001b[39m30.83    \u001b[39m | \u001b[39m3.706    \u001b[39m | \u001b[39m71.92    \u001b[39m |\n"
     ]
    },
    {
     "name": "stderr",
     "output_type": "stream",
     "text": [
      "e:\\Anaconda1\\envs\\env_ml\\Lib\\site-packages\\umap\\umap_.py:1945: UserWarning: n_jobs value 1 overridden to 1 by setting random_state. Use no seed for parallelism.\n",
      "  warn(f\"n_jobs value {self.n_jobs} overridden to 1 by setting random_state. Use no seed for parallelism.\")\n"
     ]
    },
    {
     "name": "stdout",
     "output_type": "stream",
     "text": [
      "| \u001b[39m13       \u001b[39m | \u001b[39m-0.0676  \u001b[39m | \u001b[39m30.78    \u001b[39m | \u001b[39m0.6516   \u001b[39m | \u001b[39m7.155    \u001b[39m | \u001b[39m8.724    \u001b[39m | \u001b[39m288.0    \u001b[39m |\n"
     ]
    },
    {
     "name": "stderr",
     "output_type": "stream",
     "text": [
      "e:\\Anaconda1\\envs\\env_ml\\Lib\\site-packages\\umap\\umap_.py:1945: UserWarning: n_jobs value 1 overridden to 1 by setting random_state. Use no seed for parallelism.\n",
      "  warn(f\"n_jobs value {self.n_jobs} overridden to 1 by setting random_state. Use no seed for parallelism.\")\n"
     ]
    },
    {
     "name": "stdout",
     "output_type": "stream",
     "text": [
      "| \u001b[39m14       \u001b[39m | \u001b[39m0.2407   \u001b[39m | \u001b[39m20.56    \u001b[39m | \u001b[39m0.1011   \u001b[39m | \u001b[39m24.55    \u001b[39m | \u001b[39m10.21    \u001b[39m | \u001b[39m239.6    \u001b[39m |\n"
     ]
    },
    {
     "name": "stderr",
     "output_type": "stream",
     "text": [
      "e:\\Anaconda1\\envs\\env_ml\\Lib\\site-packages\\umap\\umap_.py:1945: UserWarning: n_jobs value 1 overridden to 1 by setting random_state. Use no seed for parallelism.\n",
      "  warn(f\"n_jobs value {self.n_jobs} overridden to 1 by setting random_state. Use no seed for parallelism.\")\n"
     ]
    },
    {
     "name": "stdout",
     "output_type": "stream",
     "text": [
      "| \u001b[39m15       \u001b[39m | \u001b[39m0.4574   \u001b[39m | \u001b[39m78.86    \u001b[39m | \u001b[39m0.3575   \u001b[39m | \u001b[39m83.92    \u001b[39m | \u001b[39m10.41    \u001b[39m | \u001b[39m53.11    \u001b[39m |\n"
     ]
    },
    {
     "name": "stderr",
     "output_type": "stream",
     "text": [
      "e:\\Anaconda1\\envs\\env_ml\\Lib\\site-packages\\umap\\umap_.py:1945: UserWarning: n_jobs value 1 overridden to 1 by setting random_state. Use no seed for parallelism.\n",
      "  warn(f\"n_jobs value {self.n_jobs} overridden to 1 by setting random_state. Use no seed for parallelism.\")\n"
     ]
    },
    {
     "name": "stdout",
     "output_type": "stream",
     "text": [
      "| \u001b[39m16       \u001b[39m | \u001b[39m0.2891   \u001b[39m | \u001b[39m53.03    \u001b[39m | \u001b[39m0.5117   \u001b[39m | \u001b[39m79.36    \u001b[39m | \u001b[39m4.974    \u001b[39m | \u001b[39m277.1    \u001b[39m |\n"
     ]
    },
    {
     "name": "stderr",
     "output_type": "stream",
     "text": [
      "e:\\Anaconda1\\envs\\env_ml\\Lib\\site-packages\\umap\\umap_.py:1945: UserWarning: n_jobs value 1 overridden to 1 by setting random_state. Use no seed for parallelism.\n",
      "  warn(f\"n_jobs value {self.n_jobs} overridden to 1 by setting random_state. Use no seed for parallelism.\")\n"
     ]
    },
    {
     "name": "stdout",
     "output_type": "stream",
     "text": [
      "| \u001b[39m17       \u001b[39m | \u001b[39m0.3905   \u001b[39m | \u001b[39m87.07    \u001b[39m | \u001b[39m0.5721   \u001b[39m | \u001b[39m42.21    \u001b[39m | \u001b[39m3.649    \u001b[39m | \u001b[39m88.03    \u001b[39m |\n"
     ]
    },
    {
     "name": "stderr",
     "output_type": "stream",
     "text": [
      "e:\\Anaconda1\\envs\\env_ml\\Lib\\site-packages\\umap\\umap_.py:1945: UserWarning: n_jobs value 1 overridden to 1 by setting random_state. Use no seed for parallelism.\n",
      "  warn(f\"n_jobs value {self.n_jobs} overridden to 1 by setting random_state. Use no seed for parallelism.\")\n"
     ]
    },
    {
     "name": "stdout",
     "output_type": "stream",
     "text": [
      "| \u001b[39m18       \u001b[39m | \u001b[39m0.2138   \u001b[39m | \u001b[39m64.36    \u001b[39m | \u001b[39m0.763    \u001b[39m | \u001b[39m38.97    \u001b[39m | \u001b[39m3.71     \u001b[39m | \u001b[39m252.1    \u001b[39m |\n"
     ]
    },
    {
     "name": "stderr",
     "output_type": "stream",
     "text": [
      "e:\\Anaconda1\\envs\\env_ml\\Lib\\site-packages\\umap\\umap_.py:1945: UserWarning: n_jobs value 1 overridden to 1 by setting random_state. Use no seed for parallelism.\n",
      "  warn(f\"n_jobs value {self.n_jobs} overridden to 1 by setting random_state. Use no seed for parallelism.\")\n"
     ]
    },
    {
     "name": "stdout",
     "output_type": "stream",
     "text": [
      "| \u001b[39m19       \u001b[39m | \u001b[39m0.2717   \u001b[39m | \u001b[39m58.78    \u001b[39m | \u001b[39m0.05216  \u001b[39m | \u001b[39m37.05    \u001b[39m | \u001b[39m3.469    \u001b[39m | \u001b[39m50.7     \u001b[39m |\n"
     ]
    },
    {
     "name": "stderr",
     "output_type": "stream",
     "text": [
      "e:\\Anaconda1\\envs\\env_ml\\Lib\\site-packages\\umap\\umap_.py:1945: UserWarning: n_jobs value 1 overridden to 1 by setting random_state. Use no seed for parallelism.\n",
      "  warn(f\"n_jobs value {self.n_jobs} overridden to 1 by setting random_state. Use no seed for parallelism.\")\n"
     ]
    },
    {
     "name": "stdout",
     "output_type": "stream",
     "text": [
      "| \u001b[39m20       \u001b[39m | \u001b[39m0.4365   \u001b[39m | \u001b[39m55.92    \u001b[39m | \u001b[39m0.8016   \u001b[39m | \u001b[39m82.77    \u001b[39m | \u001b[39m6.944    \u001b[39m | \u001b[39m166.1    \u001b[39m |\n"
     ]
    },
    {
     "name": "stderr",
     "output_type": "stream",
     "text": [
      "e:\\Anaconda1\\envs\\env_ml\\Lib\\site-packages\\umap\\umap_.py:1945: UserWarning: n_jobs value 1 overridden to 1 by setting random_state. Use no seed for parallelism.\n",
      "  warn(f\"n_jobs value {self.n_jobs} overridden to 1 by setting random_state. Use no seed for parallelism.\")\n"
     ]
    },
    {
     "name": "stdout",
     "output_type": "stream",
     "text": [
      "| \u001b[39m21       \u001b[39m | \u001b[39m0.3826   \u001b[39m | \u001b[39m11.52    \u001b[39m | \u001b[39m0.06923  \u001b[39m | \u001b[39m16.17    \u001b[39m | \u001b[39m5.044    \u001b[39m | \u001b[39m115.1    \u001b[39m |\n"
     ]
    },
    {
     "name": "stderr",
     "output_type": "stream",
     "text": [
      "e:\\Anaconda1\\envs\\env_ml\\Lib\\site-packages\\umap\\umap_.py:1945: UserWarning: n_jobs value 1 overridden to 1 by setting random_state. Use no seed for parallelism.\n",
      "  warn(f\"n_jobs value {self.n_jobs} overridden to 1 by setting random_state. Use no seed for parallelism.\")\n"
     ]
    },
    {
     "name": "stdout",
     "output_type": "stream",
     "text": [
      "| \u001b[39m22       \u001b[39m | \u001b[39m0.3741   \u001b[39m | \u001b[39m46.47    \u001b[39m | \u001b[39m0.1511   \u001b[39m | \u001b[39m58.24    \u001b[39m | \u001b[39m8.524    \u001b[39m | \u001b[39m45.08    \u001b[39m |\n"
     ]
    },
    {
     "name": "stderr",
     "output_type": "stream",
     "text": [
      "e:\\Anaconda1\\envs\\env_ml\\Lib\\site-packages\\umap\\umap_.py:1945: UserWarning: n_jobs value 1 overridden to 1 by setting random_state. Use no seed for parallelism.\n",
      "  warn(f\"n_jobs value {self.n_jobs} overridden to 1 by setting random_state. Use no seed for parallelism.\")\n"
     ]
    },
    {
     "name": "stdout",
     "output_type": "stream",
     "text": [
      "| \u001b[39m23       \u001b[39m | \u001b[39m0.2606   \u001b[39m | \u001b[39m27.41    \u001b[39m | \u001b[39m0.6242   \u001b[39m | \u001b[39m85.19    \u001b[39m | \u001b[39m9.667    \u001b[39m | \u001b[39m244.2    \u001b[39m |\n"
     ]
    },
    {
     "name": "stderr",
     "output_type": "stream",
     "text": [
      "e:\\Anaconda1\\envs\\env_ml\\Lib\\site-packages\\umap\\umap_.py:1945: UserWarning: n_jobs value 1 overridden to 1 by setting random_state. Use no seed for parallelism.\n",
      "  warn(f\"n_jobs value {self.n_jobs} overridden to 1 by setting random_state. Use no seed for parallelism.\")\n"
     ]
    },
    {
     "name": "stdout",
     "output_type": "stream",
     "text": [
      "| \u001b[39m24       \u001b[39m | \u001b[39m0.01029  \u001b[39m | \u001b[39m46.0     \u001b[39m | \u001b[39m0.8351   \u001b[39m | \u001b[39m63.27    \u001b[39m | \u001b[39m3.17     \u001b[39m | \u001b[39m13.49    \u001b[39m |\n"
     ]
    },
    {
     "name": "stderr",
     "output_type": "stream",
     "text": [
      "e:\\Anaconda1\\envs\\env_ml\\Lib\\site-packages\\umap\\umap_.py:1945: UserWarning: n_jobs value 1 overridden to 1 by setting random_state. Use no seed for parallelism.\n",
      "  warn(f\"n_jobs value {self.n_jobs} overridden to 1 by setting random_state. Use no seed for parallelism.\")\n"
     ]
    },
    {
     "name": "stdout",
     "output_type": "stream",
     "text": [
      "| \u001b[39m25       \u001b[39m | \u001b[39m0.08231  \u001b[39m | \u001b[39m98.49    \u001b[39m | \u001b[39m0.3748   \u001b[39m | \u001b[39m21.41    \u001b[39m | \u001b[39m8.696    \u001b[39m | \u001b[39m204.0    \u001b[39m |\n"
     ]
    },
    {
     "name": "stderr",
     "output_type": "stream",
     "text": [
      "e:\\Anaconda1\\envs\\env_ml\\Lib\\site-packages\\umap\\umap_.py:1945: UserWarning: n_jobs value 1 overridden to 1 by setting random_state. Use no seed for parallelism.\n",
      "  warn(f\"n_jobs value {self.n_jobs} overridden to 1 by setting random_state. Use no seed for parallelism.\")\n"
     ]
    },
    {
     "name": "stdout",
     "output_type": "stream",
     "text": [
      "| \u001b[39m26       \u001b[39m | \u001b[39m0.3786   \u001b[39m | \u001b[39m66.81    \u001b[39m | \u001b[39m0.8517   \u001b[39m | \u001b[39m38.26    \u001b[39m | \u001b[39m10.66    \u001b[39m | \u001b[39m66.82    \u001b[39m |\n"
     ]
    },
    {
     "name": "stderr",
     "output_type": "stream",
     "text": [
      "e:\\Anaconda1\\envs\\env_ml\\Lib\\site-packages\\umap\\umap_.py:1945: UserWarning: n_jobs value 1 overridden to 1 by setting random_state. Use no seed for parallelism.\n",
      "  warn(f\"n_jobs value {self.n_jobs} overridden to 1 by setting random_state. Use no seed for parallelism.\")\n"
     ]
    },
    {
     "name": "stdout",
     "output_type": "stream",
     "text": [
      "| \u001b[39m27       \u001b[39m | \u001b[39m0.1408   \u001b[39m | \u001b[39m49.03    \u001b[39m | \u001b[39m0.7613   \u001b[39m | \u001b[39m73.17    \u001b[39m | \u001b[39m10.12    \u001b[39m | \u001b[39m35.97    \u001b[39m |\n"
     ]
    },
    {
     "name": "stderr",
     "output_type": "stream",
     "text": [
      "e:\\Anaconda1\\envs\\env_ml\\Lib\\site-packages\\umap\\umap_.py:1945: UserWarning: n_jobs value 1 overridden to 1 by setting random_state. Use no seed for parallelism.\n",
      "  warn(f\"n_jobs value {self.n_jobs} overridden to 1 by setting random_state. Use no seed for parallelism.\")\n"
     ]
    },
    {
     "name": "stdout",
     "output_type": "stream",
     "text": [
      "| \u001b[39m28       \u001b[39m | \u001b[39m-0.02935 \u001b[39m | \u001b[39m32.4     \u001b[39m | \u001b[39m0.9714   \u001b[39m | \u001b[39m20.54    \u001b[39m | \u001b[39m10.63    \u001b[39m | \u001b[39m293.0    \u001b[39m |\n"
     ]
    },
    {
     "name": "stderr",
     "output_type": "stream",
     "text": [
      "e:\\Anaconda1\\envs\\env_ml\\Lib\\site-packages\\umap\\umap_.py:1945: UserWarning: n_jobs value 1 overridden to 1 by setting random_state. Use no seed for parallelism.\n",
      "  warn(f\"n_jobs value {self.n_jobs} overridden to 1 by setting random_state. Use no seed for parallelism.\")\n"
     ]
    },
    {
     "name": "stdout",
     "output_type": "stream",
     "text": [
      "| \u001b[39m29       \u001b[39m | \u001b[39m0.2197   \u001b[39m | \u001b[39m78.61    \u001b[39m | \u001b[39m0.01028  \u001b[39m | \u001b[39m22.65    \u001b[39m | \u001b[39m6.569    \u001b[39m | \u001b[39m113.4    \u001b[39m |\n"
     ]
    },
    {
     "name": "stderr",
     "output_type": "stream",
     "text": [
      "e:\\Anaconda1\\envs\\env_ml\\Lib\\site-packages\\umap\\umap_.py:1945: UserWarning: n_jobs value 1 overridden to 1 by setting random_state. Use no seed for parallelism.\n",
      "  warn(f\"n_jobs value {self.n_jobs} overridden to 1 by setting random_state. Use no seed for parallelism.\")\n"
     ]
    },
    {
     "name": "stdout",
     "output_type": "stream",
     "text": [
      "| \u001b[39m30       \u001b[39m | \u001b[39m0.2714   \u001b[39m | \u001b[39m64.41    \u001b[39m | \u001b[39m0.02786  \u001b[39m | \u001b[39m52.68    \u001b[39m | \u001b[39m7.496    \u001b[39m | \u001b[39m299.4    \u001b[39m |\n"
     ]
    },
    {
     "name": "stderr",
     "output_type": "stream",
     "text": [
      "e:\\Anaconda1\\envs\\env_ml\\Lib\\site-packages\\umap\\umap_.py:1945: UserWarning: n_jobs value 1 overridden to 1 by setting random_state. Use no seed for parallelism.\n",
      "  warn(f\"n_jobs value {self.n_jobs} overridden to 1 by setting random_state. Use no seed for parallelism.\")\n"
     ]
    },
    {
     "name": "stdout",
     "output_type": "stream",
     "text": [
      "| \u001b[39m31       \u001b[39m | \u001b[39m0.2217   \u001b[39m | \u001b[39m56.34    \u001b[39m | \u001b[39m0.1168   \u001b[39m | \u001b[39m40.67    \u001b[39m | \u001b[39m7.988    \u001b[39m | \u001b[39m181.0    \u001b[39m |\n"
     ]
    },
    {
     "name": "stderr",
     "output_type": "stream",
     "text": [
      "e:\\Anaconda1\\envs\\env_ml\\Lib\\site-packages\\umap\\umap_.py:1945: UserWarning: n_jobs value 1 overridden to 1 by setting random_state. Use no seed for parallelism.\n",
      "  warn(f\"n_jobs value {self.n_jobs} overridden to 1 by setting random_state. Use no seed for parallelism.\")\n"
     ]
    },
    {
     "name": "stdout",
     "output_type": "stream",
     "text": [
      "| \u001b[39m32       \u001b[39m | \u001b[39m0.3686   \u001b[39m | \u001b[39m80.54    \u001b[39m | \u001b[39m0.4733   \u001b[39m | \u001b[39m30.07    \u001b[39m | \u001b[39m8.397    \u001b[39m | \u001b[39m299.4    \u001b[39m |\n"
     ]
    },
    {
     "name": "stderr",
     "output_type": "stream",
     "text": [
      "e:\\Anaconda1\\envs\\env_ml\\Lib\\site-packages\\umap\\umap_.py:1945: UserWarning: n_jobs value 1 overridden to 1 by setting random_state. Use no seed for parallelism.\n",
      "  warn(f\"n_jobs value {self.n_jobs} overridden to 1 by setting random_state. Use no seed for parallelism.\")\n"
     ]
    },
    {
     "name": "stdout",
     "output_type": "stream",
     "text": [
      "| \u001b[39m33       \u001b[39m | \u001b[39m0.3942   \u001b[39m | \u001b[39m61.49    \u001b[39m | \u001b[39m0.1316   \u001b[39m | \u001b[39m82.67    \u001b[39m | \u001b[39m4.248    \u001b[39m | \u001b[39m66.69    \u001b[39m |\n"
     ]
    },
    {
     "name": "stderr",
     "output_type": "stream",
     "text": [
      "e:\\Anaconda1\\envs\\env_ml\\Lib\\site-packages\\umap\\umap_.py:1945: UserWarning: n_jobs value 1 overridden to 1 by setting random_state. Use no seed for parallelism.\n",
      "  warn(f\"n_jobs value {self.n_jobs} overridden to 1 by setting random_state. Use no seed for parallelism.\")\n"
     ]
    },
    {
     "name": "stdout",
     "output_type": "stream",
     "text": [
      "| \u001b[39m34       \u001b[39m | \u001b[39m-0.02848 \u001b[39m | \u001b[39m37.32    \u001b[39m | \u001b[39m0.8547   \u001b[39m | \u001b[39m9.069    \u001b[39m | \u001b[39m5.798    \u001b[39m | \u001b[39m63.34    \u001b[39m |\n"
     ]
    },
    {
     "name": "stderr",
     "output_type": "stream",
     "text": [
      "e:\\Anaconda1\\envs\\env_ml\\Lib\\site-packages\\umap\\umap_.py:1945: UserWarning: n_jobs value 1 overridden to 1 by setting random_state. Use no seed for parallelism.\n",
      "  warn(f\"n_jobs value {self.n_jobs} overridden to 1 by setting random_state. Use no seed for parallelism.\")\n"
     ]
    },
    {
     "name": "stdout",
     "output_type": "stream",
     "text": [
      "| \u001b[39m35       \u001b[39m | \u001b[39m0.2412   \u001b[39m | \u001b[39m45.92    \u001b[39m | \u001b[39m0.7044   \u001b[39m | \u001b[39m90.36    \u001b[39m | \u001b[39m7.586    \u001b[39m | \u001b[39m25.73    \u001b[39m |\n"
     ]
    },
    {
     "name": "stderr",
     "output_type": "stream",
     "text": [
      "e:\\Anaconda1\\envs\\env_ml\\Lib\\site-packages\\umap\\umap_.py:1945: UserWarning: n_jobs value 1 overridden to 1 by setting random_state. Use no seed for parallelism.\n",
      "  warn(f\"n_jobs value {self.n_jobs} overridden to 1 by setting random_state. Use no seed for parallelism.\")\n"
     ]
    },
    {
     "name": "stdout",
     "output_type": "stream",
     "text": [
      "| \u001b[39m36       \u001b[39m | \u001b[39m0.2944   \u001b[39m | \u001b[39m30.42    \u001b[39m | \u001b[39m0.4137   \u001b[39m | \u001b[39m7.422    \u001b[39m | \u001b[39m8.971    \u001b[39m | \u001b[39m10.62    \u001b[39m |\n"
     ]
    },
    {
     "name": "stderr",
     "output_type": "stream",
     "text": [
      "e:\\Anaconda1\\envs\\env_ml\\Lib\\site-packages\\umap\\umap_.py:1945: UserWarning: n_jobs value 1 overridden to 1 by setting random_state. Use no seed for parallelism.\n",
      "  warn(f\"n_jobs value {self.n_jobs} overridden to 1 by setting random_state. Use no seed for parallelism.\")\n"
     ]
    },
    {
     "name": "stdout",
     "output_type": "stream",
     "text": [
      "| \u001b[39m37       \u001b[39m | \u001b[39m0.2287   \u001b[39m | \u001b[39m32.06    \u001b[39m | \u001b[39m0.04874  \u001b[39m | \u001b[39m10.45    \u001b[39m | \u001b[39m10.09    \u001b[39m | \u001b[39m292.3    \u001b[39m |\n"
     ]
    },
    {
     "name": "stderr",
     "output_type": "stream",
     "text": [
      "e:\\Anaconda1\\envs\\env_ml\\Lib\\site-packages\\umap\\umap_.py:1945: UserWarning: n_jobs value 1 overridden to 1 by setting random_state. Use no seed for parallelism.\n",
      "  warn(f\"n_jobs value {self.n_jobs} overridden to 1 by setting random_state. Use no seed for parallelism.\")\n"
     ]
    },
    {
     "name": "stdout",
     "output_type": "stream",
     "text": [
      "| \u001b[39m38       \u001b[39m | \u001b[39m0.1474   \u001b[39m | \u001b[39m31.22    \u001b[39m | \u001b[39m0.1303   \u001b[39m | \u001b[39m44.57    \u001b[39m | \u001b[39m6.06     \u001b[39m | \u001b[39m241.0    \u001b[39m |\n"
     ]
    },
    {
     "name": "stderr",
     "output_type": "stream",
     "text": [
      "e:\\Anaconda1\\envs\\env_ml\\Lib\\site-packages\\umap\\umap_.py:1945: UserWarning: n_jobs value 1 overridden to 1 by setting random_state. Use no seed for parallelism.\n",
      "  warn(f\"n_jobs value {self.n_jobs} overridden to 1 by setting random_state. Use no seed for parallelism.\")\n"
     ]
    },
    {
     "name": "stdout",
     "output_type": "stream",
     "text": [
      "| \u001b[39m39       \u001b[39m | \u001b[39m0.2838   \u001b[39m | \u001b[39m98.18    \u001b[39m | \u001b[39m0.1221   \u001b[39m | \u001b[39m34.84    \u001b[39m | \u001b[39m2.04     \u001b[39m | \u001b[39m101.1    \u001b[39m |\n"
     ]
    },
    {
     "name": "stderr",
     "output_type": "stream",
     "text": [
      "e:\\Anaconda1\\envs\\env_ml\\Lib\\site-packages\\umap\\umap_.py:1945: UserWarning: n_jobs value 1 overridden to 1 by setting random_state. Use no seed for parallelism.\n",
      "  warn(f\"n_jobs value {self.n_jobs} overridden to 1 by setting random_state. Use no seed for parallelism.\")\n"
     ]
    },
    {
     "name": "stdout",
     "output_type": "stream",
     "text": [
      "| \u001b[39m40       \u001b[39m | \u001b[39m0.1435   \u001b[39m | \u001b[39m53.23    \u001b[39m | \u001b[39m0.6527   \u001b[39m | \u001b[39m28.6     \u001b[39m | \u001b[39m9.836    \u001b[39m | \u001b[39m152.7    \u001b[39m |\n"
     ]
    },
    {
     "name": "stderr",
     "output_type": "stream",
     "text": [
      "e:\\Anaconda1\\envs\\env_ml\\Lib\\site-packages\\umap\\umap_.py:1945: UserWarning: n_jobs value 1 overridden to 1 by setting random_state. Use no seed for parallelism.\n",
      "  warn(f\"n_jobs value {self.n_jobs} overridden to 1 by setting random_state. Use no seed for parallelism.\")\n"
     ]
    },
    {
     "name": "stdout",
     "output_type": "stream",
     "text": [
      "| \u001b[39m41       \u001b[39m | \u001b[39m0.1579   \u001b[39m | \u001b[39m31.71    \u001b[39m | \u001b[39m0.8742   \u001b[39m | \u001b[39m53.57    \u001b[39m | \u001b[39m6.448    \u001b[39m | \u001b[39m288.0    \u001b[39m |\n"
     ]
    },
    {
     "name": "stderr",
     "output_type": "stream",
     "text": [
      "e:\\Anaconda1\\envs\\env_ml\\Lib\\site-packages\\umap\\umap_.py:1945: UserWarning: n_jobs value 1 overridden to 1 by setting random_state. Use no seed for parallelism.\n",
      "  warn(f\"n_jobs value {self.n_jobs} overridden to 1 by setting random_state. Use no seed for parallelism.\")\n"
     ]
    },
    {
     "name": "stdout",
     "output_type": "stream",
     "text": [
      "| \u001b[39m42       \u001b[39m | \u001b[39m0.2391   \u001b[39m | \u001b[39m53.39    \u001b[39m | \u001b[39m0.2468   \u001b[39m | \u001b[39m23.47    \u001b[39m | \u001b[39m6.41     \u001b[39m | \u001b[39m149.9    \u001b[39m |\n"
     ]
    },
    {
     "name": "stderr",
     "output_type": "stream",
     "text": [
      "e:\\Anaconda1\\envs\\env_ml\\Lib\\site-packages\\umap\\umap_.py:1945: UserWarning: n_jobs value 1 overridden to 1 by setting random_state. Use no seed for parallelism.\n",
      "  warn(f\"n_jobs value {self.n_jobs} overridden to 1 by setting random_state. Use no seed for parallelism.\")\n"
     ]
    },
    {
     "name": "stdout",
     "output_type": "stream",
     "text": [
      "| \u001b[39m43       \u001b[39m | \u001b[39m0.2114   \u001b[39m | \u001b[39m13.26    \u001b[39m | \u001b[39m0.8813   \u001b[39m | \u001b[39m83.11    \u001b[39m | \u001b[39m10.46    \u001b[39m | \u001b[39m154.6    \u001b[39m |\n"
     ]
    },
    {
     "name": "stderr",
     "output_type": "stream",
     "text": [
      "e:\\Anaconda1\\envs\\env_ml\\Lib\\site-packages\\umap\\umap_.py:1945: UserWarning: n_jobs value 1 overridden to 1 by setting random_state. Use no seed for parallelism.\n",
      "  warn(f\"n_jobs value {self.n_jobs} overridden to 1 by setting random_state. Use no seed for parallelism.\")\n"
     ]
    },
    {
     "name": "stdout",
     "output_type": "stream",
     "text": [
      "| \u001b[39m44       \u001b[39m | \u001b[39m0.2777   \u001b[39m | \u001b[39m85.1     \u001b[39m | \u001b[39m0.8379   \u001b[39m | \u001b[39m3.954    \u001b[39m | \u001b[39m8.702    \u001b[39m | \u001b[39m215.4    \u001b[39m |\n"
     ]
    },
    {
     "name": "stderr",
     "output_type": "stream",
     "text": [
      "e:\\Anaconda1\\envs\\env_ml\\Lib\\site-packages\\umap\\umap_.py:1945: UserWarning: n_jobs value 1 overridden to 1 by setting random_state. Use no seed for parallelism.\n",
      "  warn(f\"n_jobs value {self.n_jobs} overridden to 1 by setting random_state. Use no seed for parallelism.\")\n"
     ]
    },
    {
     "name": "stdout",
     "output_type": "stream",
     "text": [
      "| \u001b[39m45       \u001b[39m | \u001b[39m0.2913   \u001b[39m | \u001b[39m18.97    \u001b[39m | \u001b[39m0.6017   \u001b[39m | \u001b[39m86.16    \u001b[39m | \u001b[39m8.193    \u001b[39m | \u001b[39m270.9    \u001b[39m |\n"
     ]
    },
    {
     "name": "stderr",
     "output_type": "stream",
     "text": [
      "e:\\Anaconda1\\envs\\env_ml\\Lib\\site-packages\\umap\\umap_.py:1945: UserWarning: n_jobs value 1 overridden to 1 by setting random_state. Use no seed for parallelism.\n",
      "  warn(f\"n_jobs value {self.n_jobs} overridden to 1 by setting random_state. Use no seed for parallelism.\")\n"
     ]
    },
    {
     "name": "stdout",
     "output_type": "stream",
     "text": [
      "| \u001b[39m46       \u001b[39m | \u001b[39m0.2215   \u001b[39m | \u001b[39m57.52    \u001b[39m | \u001b[39m0.665    \u001b[39m | \u001b[39m22.96    \u001b[39m | \u001b[39m6.581    \u001b[39m | \u001b[39m17.9     \u001b[39m |\n"
     ]
    },
    {
     "name": "stderr",
     "output_type": "stream",
     "text": [
      "e:\\Anaconda1\\envs\\env_ml\\Lib\\site-packages\\umap\\umap_.py:1945: UserWarning: n_jobs value 1 overridden to 1 by setting random_state. Use no seed for parallelism.\n",
      "  warn(f\"n_jobs value {self.n_jobs} overridden to 1 by setting random_state. Use no seed for parallelism.\")\n"
     ]
    },
    {
     "name": "stdout",
     "output_type": "stream",
     "text": [
      "| \u001b[39m47       \u001b[39m | \u001b[39m-0.02575 \u001b[39m | \u001b[39m50.28    \u001b[39m | \u001b[39m0.767    \u001b[39m | \u001b[39m17.78    \u001b[39m | \u001b[39m9.292    \u001b[39m | \u001b[39m175.7    \u001b[39m |\n"
     ]
    },
    {
     "name": "stderr",
     "output_type": "stream",
     "text": [
      "e:\\Anaconda1\\envs\\env_ml\\Lib\\site-packages\\umap\\umap_.py:1945: UserWarning: n_jobs value 1 overridden to 1 by setting random_state. Use no seed for parallelism.\n",
      "  warn(f\"n_jobs value {self.n_jobs} overridden to 1 by setting random_state. Use no seed for parallelism.\")\n"
     ]
    },
    {
     "name": "stdout",
     "output_type": "stream",
     "text": [
      "| \u001b[39m48       \u001b[39m | \u001b[39m0.1934   \u001b[39m | \u001b[39m15.35    \u001b[39m | \u001b[39m0.2664   \u001b[39m | \u001b[39m19.67    \u001b[39m | \u001b[39m6.262    \u001b[39m | \u001b[39m42.79    \u001b[39m |\n"
     ]
    },
    {
     "name": "stderr",
     "output_type": "stream",
     "text": [
      "e:\\Anaconda1\\envs\\env_ml\\Lib\\site-packages\\umap\\umap_.py:1945: UserWarning: n_jobs value 1 overridden to 1 by setting random_state. Use no seed for parallelism.\n",
      "  warn(f\"n_jobs value {self.n_jobs} overridden to 1 by setting random_state. Use no seed for parallelism.\")\n"
     ]
    },
    {
     "name": "stdout",
     "output_type": "stream",
     "text": [
      "| \u001b[39m49       \u001b[39m | \u001b[39m0.2499   \u001b[39m | \u001b[39m91.71    \u001b[39m | \u001b[39m0.4127   \u001b[39m | \u001b[39m45.21    \u001b[39m | \u001b[39m8.222    \u001b[39m | \u001b[39m271.2    \u001b[39m |\n"
     ]
    },
    {
     "name": "stderr",
     "output_type": "stream",
     "text": [
      "e:\\Anaconda1\\envs\\env_ml\\Lib\\site-packages\\umap\\umap_.py:1945: UserWarning: n_jobs value 1 overridden to 1 by setting random_state. Use no seed for parallelism.\n",
      "  warn(f\"n_jobs value {self.n_jobs} overridden to 1 by setting random_state. Use no seed for parallelism.\")\n"
     ]
    },
    {
     "name": "stdout",
     "output_type": "stream",
     "text": [
      "| \u001b[39m50       \u001b[39m | \u001b[39m0.302    \u001b[39m | \u001b[39m97.35    \u001b[39m | \u001b[39m0.4764   \u001b[39m | \u001b[39m97.16    \u001b[39m | \u001b[39m5.986    \u001b[39m | \u001b[39m152.0    \u001b[39m |\n"
     ]
    },
    {
     "name": "stderr",
     "output_type": "stream",
     "text": [
      "e:\\Anaconda1\\envs\\env_ml\\Lib\\site-packages\\umap\\umap_.py:1945: UserWarning: n_jobs value 1 overridden to 1 by setting random_state. Use no seed for parallelism.\n",
      "  warn(f\"n_jobs value {self.n_jobs} overridden to 1 by setting random_state. Use no seed for parallelism.\")\n"
     ]
    },
    {
     "name": "stdout",
     "output_type": "stream",
     "text": [
      "| \u001b[39m51       \u001b[39m | \u001b[39m0.0004854\u001b[39m | \u001b[39m58.73    \u001b[39m | \u001b[39m0.2391   \u001b[39m | \u001b[39m11.64    \u001b[39m | \u001b[39m9.616    \u001b[39m | \u001b[39m286.7    \u001b[39m |\n"
     ]
    },
    {
     "name": "stderr",
     "output_type": "stream",
     "text": [
      "e:\\Anaconda1\\envs\\env_ml\\Lib\\site-packages\\umap\\umap_.py:1945: UserWarning: n_jobs value 1 overridden to 1 by setting random_state. Use no seed for parallelism.\n",
      "  warn(f\"n_jobs value {self.n_jobs} overridden to 1 by setting random_state. Use no seed for parallelism.\")\n"
     ]
    },
    {
     "name": "stdout",
     "output_type": "stream",
     "text": [
      "| \u001b[39m52       \u001b[39m | \u001b[39m0.2011   \u001b[39m | \u001b[39m11.72    \u001b[39m | \u001b[39m0.7551   \u001b[39m | \u001b[39m44.07    \u001b[39m | \u001b[39m5.292    \u001b[39m | \u001b[39m274.2    \u001b[39m |\n"
     ]
    },
    {
     "name": "stderr",
     "output_type": "stream",
     "text": [
      "e:\\Anaconda1\\envs\\env_ml\\Lib\\site-packages\\umap\\umap_.py:1945: UserWarning: n_jobs value 1 overridden to 1 by setting random_state. Use no seed for parallelism.\n",
      "  warn(f\"n_jobs value {self.n_jobs} overridden to 1 by setting random_state. Use no seed for parallelism.\")\n"
     ]
    },
    {
     "name": "stdout",
     "output_type": "stream",
     "text": [
      "| \u001b[39m53       \u001b[39m | \u001b[39m0.2116   \u001b[39m | \u001b[39m42.79    \u001b[39m | \u001b[39m0.8582   \u001b[39m | \u001b[39m95.61    \u001b[39m | \u001b[39m8.399    \u001b[39m | \u001b[39m180.8    \u001b[39m |\n"
     ]
    },
    {
     "name": "stderr",
     "output_type": "stream",
     "text": [
      "e:\\Anaconda1\\envs\\env_ml\\Lib\\site-packages\\umap\\umap_.py:1945: UserWarning: n_jobs value 1 overridden to 1 by setting random_state. Use no seed for parallelism.\n",
      "  warn(f\"n_jobs value {self.n_jobs} overridden to 1 by setting random_state. Use no seed for parallelism.\")\n"
     ]
    },
    {
     "name": "stdout",
     "output_type": "stream",
     "text": [
      "| \u001b[39m54       \u001b[39m | \u001b[39m0.3      \u001b[39m | \u001b[39m74.79    \u001b[39m | \u001b[39m0.2596   \u001b[39m | \u001b[39m83.43    \u001b[39m | \u001b[39m9.722    \u001b[39m | \u001b[39m191.8    \u001b[39m |\n"
     ]
    },
    {
     "name": "stderr",
     "output_type": "stream",
     "text": [
      "e:\\Anaconda1\\envs\\env_ml\\Lib\\site-packages\\umap\\umap_.py:1945: UserWarning: n_jobs value 1 overridden to 1 by setting random_state. Use no seed for parallelism.\n",
      "  warn(f\"n_jobs value {self.n_jobs} overridden to 1 by setting random_state. Use no seed for parallelism.\")\n"
     ]
    },
    {
     "name": "stdout",
     "output_type": "stream",
     "text": [
      "| \u001b[39m55       \u001b[39m | \u001b[39m0.2722   \u001b[39m | \u001b[39m69.37    \u001b[39m | \u001b[39m0.6149   \u001b[39m | \u001b[39m83.3     \u001b[39m | \u001b[39m9.808    \u001b[39m | \u001b[39m294.0    \u001b[39m |\n"
     ]
    },
    {
     "name": "stderr",
     "output_type": "stream",
     "text": [
      "e:\\Anaconda1\\envs\\env_ml\\Lib\\site-packages\\umap\\umap_.py:1945: UserWarning: n_jobs value 1 overridden to 1 by setting random_state. Use no seed for parallelism.\n",
      "  warn(f\"n_jobs value {self.n_jobs} overridden to 1 by setting random_state. Use no seed for parallelism.\")\n"
     ]
    },
    {
     "name": "stdout",
     "output_type": "stream",
     "text": [
      "| \u001b[39m56       \u001b[39m | \u001b[39m0.01207  \u001b[39m | \u001b[39m22.94    \u001b[39m | \u001b[39m0.8935   \u001b[39m | \u001b[39m66.51    \u001b[39m | \u001b[39m6.63     \u001b[39m | \u001b[39m219.6    \u001b[39m |\n"
     ]
    },
    {
     "name": "stderr",
     "output_type": "stream",
     "text": [
      "e:\\Anaconda1\\envs\\env_ml\\Lib\\site-packages\\umap\\umap_.py:1945: UserWarning: n_jobs value 1 overridden to 1 by setting random_state. Use no seed for parallelism.\n",
      "  warn(f\"n_jobs value {self.n_jobs} overridden to 1 by setting random_state. Use no seed for parallelism.\")\n"
     ]
    },
    {
     "name": "stdout",
     "output_type": "stream",
     "text": [
      "| \u001b[39m57       \u001b[39m | \u001b[39m0.2271   \u001b[39m | \u001b[39m69.3     \u001b[39m | \u001b[39m0.4799   \u001b[39m | \u001b[39m82.51    \u001b[39m | \u001b[39m10.29    \u001b[39m | \u001b[39m293.9    \u001b[39m |\n"
     ]
    },
    {
     "name": "stderr",
     "output_type": "stream",
     "text": [
      "e:\\Anaconda1\\envs\\env_ml\\Lib\\site-packages\\umap\\umap_.py:1945: UserWarning: n_jobs value 1 overridden to 1 by setting random_state. Use no seed for parallelism.\n",
      "  warn(f\"n_jobs value {self.n_jobs} overridden to 1 by setting random_state. Use no seed for parallelism.\")\n"
     ]
    },
    {
     "name": "stdout",
     "output_type": "stream",
     "text": [
      "| \u001b[39m58       \u001b[39m | \u001b[39m0.343    \u001b[39m | \u001b[39m56.72    \u001b[39m | \u001b[39m0.5065   \u001b[39m | \u001b[39m71.61    \u001b[39m | \u001b[39m6.282    \u001b[39m | \u001b[39m275.6    \u001b[39m |\n"
     ]
    },
    {
     "name": "stderr",
     "output_type": "stream",
     "text": [
      "e:\\Anaconda1\\envs\\env_ml\\Lib\\site-packages\\umap\\umap_.py:1945: UserWarning: n_jobs value 1 overridden to 1 by setting random_state. Use no seed for parallelism.\n",
      "  warn(f\"n_jobs value {self.n_jobs} overridden to 1 by setting random_state. Use no seed for parallelism.\")\n"
     ]
    },
    {
     "name": "stdout",
     "output_type": "stream",
     "text": [
      "| \u001b[39m59       \u001b[39m | \u001b[39m0.2001   \u001b[39m | \u001b[39m85.09    \u001b[39m | \u001b[39m0.2825   \u001b[39m | \u001b[39m15.51    \u001b[39m | \u001b[39m3.815    \u001b[39m | \u001b[39m22.61    \u001b[39m |\n"
     ]
    },
    {
     "name": "stderr",
     "output_type": "stream",
     "text": [
      "e:\\Anaconda1\\envs\\env_ml\\Lib\\site-packages\\umap\\umap_.py:1945: UserWarning: n_jobs value 1 overridden to 1 by setting random_state. Use no seed for parallelism.\n",
      "  warn(f\"n_jobs value {self.n_jobs} overridden to 1 by setting random_state. Use no seed for parallelism.\")\n"
     ]
    },
    {
     "name": "stdout",
     "output_type": "stream",
     "text": [
      "| \u001b[39m60       \u001b[39m | \u001b[39m0.3617   \u001b[39m | \u001b[39m51.72    \u001b[39m | \u001b[39m0.08318  \u001b[39m | \u001b[39m29.24    \u001b[39m | \u001b[39m10.61    \u001b[39m | \u001b[39m226.8    \u001b[39m |\n"
     ]
    },
    {
     "name": "stderr",
     "output_type": "stream",
     "text": [
      "e:\\Anaconda1\\envs\\env_ml\\Lib\\site-packages\\umap\\umap_.py:1945: UserWarning: n_jobs value 1 overridden to 1 by setting random_state. Use no seed for parallelism.\n",
      "  warn(f\"n_jobs value {self.n_jobs} overridden to 1 by setting random_state. Use no seed for parallelism.\")\n"
     ]
    },
    {
     "name": "stdout",
     "output_type": "stream",
     "text": [
      "| \u001b[39m61       \u001b[39m | \u001b[39m0.3977   \u001b[39m | \u001b[39m36.0     \u001b[39m | \u001b[39m0.005666 \u001b[39m | \u001b[39m18.66    \u001b[39m | \u001b[39m6.139    \u001b[39m | \u001b[39m251.5    \u001b[39m |\n"
     ]
    },
    {
     "name": "stderr",
     "output_type": "stream",
     "text": [
      "e:\\Anaconda1\\envs\\env_ml\\Lib\\site-packages\\umap\\umap_.py:1945: UserWarning: n_jobs value 1 overridden to 1 by setting random_state. Use no seed for parallelism.\n",
      "  warn(f\"n_jobs value {self.n_jobs} overridden to 1 by setting random_state. Use no seed for parallelism.\")\n"
     ]
    },
    {
     "name": "stdout",
     "output_type": "stream",
     "text": [
      "| \u001b[39m62       \u001b[39m | \u001b[39m0.1934   \u001b[39m | \u001b[39m78.68    \u001b[39m | \u001b[39m0.6153   \u001b[39m | \u001b[39m44.23    \u001b[39m | \u001b[39m9.764    \u001b[39m | \u001b[39m160.2    \u001b[39m |\n"
     ]
    },
    {
     "name": "stderr",
     "output_type": "stream",
     "text": [
      "e:\\Anaconda1\\envs\\env_ml\\Lib\\site-packages\\umap\\umap_.py:1945: UserWarning: n_jobs value 1 overridden to 1 by setting random_state. Use no seed for parallelism.\n",
      "  warn(f\"n_jobs value {self.n_jobs} overridden to 1 by setting random_state. Use no seed for parallelism.\")\n"
     ]
    },
    {
     "name": "stdout",
     "output_type": "stream",
     "text": [
      "| \u001b[39m63       \u001b[39m | \u001b[39m0.1333   \u001b[39m | \u001b[39m19.95    \u001b[39m | \u001b[39m0.9064   \u001b[39m | \u001b[39m37.59    \u001b[39m | \u001b[39m7.0      \u001b[39m | \u001b[39m200.7    \u001b[39m |\n"
     ]
    },
    {
     "name": "stderr",
     "output_type": "stream",
     "text": [
      "e:\\Anaconda1\\envs\\env_ml\\Lib\\site-packages\\umap\\umap_.py:1945: UserWarning: n_jobs value 1 overridden to 1 by setting random_state. Use no seed for parallelism.\n",
      "  warn(f\"n_jobs value {self.n_jobs} overridden to 1 by setting random_state. Use no seed for parallelism.\")\n"
     ]
    },
    {
     "name": "stdout",
     "output_type": "stream",
     "text": [
      "| \u001b[39m64       \u001b[39m | \u001b[39m0.3494   \u001b[39m | \u001b[39m81.54    \u001b[39m | \u001b[39m0.08723  \u001b[39m | \u001b[39m34.66    \u001b[39m | \u001b[39m9.439    \u001b[39m | \u001b[39m239.6    \u001b[39m |\n"
     ]
    },
    {
     "name": "stderr",
     "output_type": "stream",
     "text": [
      "e:\\Anaconda1\\envs\\env_ml\\Lib\\site-packages\\umap\\umap_.py:1945: UserWarning: n_jobs value 1 overridden to 1 by setting random_state. Use no seed for parallelism.\n",
      "  warn(f\"n_jobs value {self.n_jobs} overridden to 1 by setting random_state. Use no seed for parallelism.\")\n"
     ]
    },
    {
     "name": "stdout",
     "output_type": "stream",
     "text": [
      "| \u001b[39m65       \u001b[39m | \u001b[39m0.2354   \u001b[39m | \u001b[39m45.26    \u001b[39m | \u001b[39m0.8091   \u001b[39m | \u001b[39m65.74    \u001b[39m | \u001b[39m9.998    \u001b[39m | \u001b[39m273.1    \u001b[39m |\n"
     ]
    },
    {
     "name": "stderr",
     "output_type": "stream",
     "text": [
      "e:\\Anaconda1\\envs\\env_ml\\Lib\\site-packages\\umap\\umap_.py:1945: UserWarning: n_jobs value 1 overridden to 1 by setting random_state. Use no seed for parallelism.\n",
      "  warn(f\"n_jobs value {self.n_jobs} overridden to 1 by setting random_state. Use no seed for parallelism.\")\n"
     ]
    },
    {
     "name": "stdout",
     "output_type": "stream",
     "text": [
      "| \u001b[39m66       \u001b[39m | \u001b[39m0.247    \u001b[39m | \u001b[39m63.62    \u001b[39m | \u001b[39m0.7042   \u001b[39m | \u001b[39m80.21    \u001b[39m | \u001b[39m10.4     \u001b[39m | \u001b[39m253.2    \u001b[39m |\n"
     ]
    },
    {
     "name": "stderr",
     "output_type": "stream",
     "text": [
      "e:\\Anaconda1\\envs\\env_ml\\Lib\\site-packages\\umap\\umap_.py:1945: UserWarning: n_jobs value 1 overridden to 1 by setting random_state. Use no seed for parallelism.\n",
      "  warn(f\"n_jobs value {self.n_jobs} overridden to 1 by setting random_state. Use no seed for parallelism.\")\n"
     ]
    },
    {
     "name": "stdout",
     "output_type": "stream",
     "text": [
      "| \u001b[39m67       \u001b[39m | \u001b[39m0.2181   \u001b[39m | \u001b[39m79.17    \u001b[39m | \u001b[39m0.2874   \u001b[39m | \u001b[39m75.34    \u001b[39m | \u001b[39m2.826    \u001b[39m | \u001b[39m160.0    \u001b[39m |\n"
     ]
    },
    {
     "name": "stderr",
     "output_type": "stream",
     "text": [
      "e:\\Anaconda1\\envs\\env_ml\\Lib\\site-packages\\umap\\umap_.py:1945: UserWarning: n_jobs value 1 overridden to 1 by setting random_state. Use no seed for parallelism.\n",
      "  warn(f\"n_jobs value {self.n_jobs} overridden to 1 by setting random_state. Use no seed for parallelism.\")\n"
     ]
    },
    {
     "name": "stdout",
     "output_type": "stream",
     "text": [
      "| \u001b[39m68       \u001b[39m | \u001b[39m-0.0233  \u001b[39m | \u001b[39m27.0     \u001b[39m | \u001b[39m0.5822   \u001b[39m | \u001b[39m74.18    \u001b[39m | \u001b[39m2.536    \u001b[39m | \u001b[39m51.3     \u001b[39m |\n"
     ]
    },
    {
     "name": "stderr",
     "output_type": "stream",
     "text": [
      "e:\\Anaconda1\\envs\\env_ml\\Lib\\site-packages\\umap\\umap_.py:1945: UserWarning: n_jobs value 1 overridden to 1 by setting random_state. Use no seed for parallelism.\n",
      "  warn(f\"n_jobs value {self.n_jobs} overridden to 1 by setting random_state. Use no seed for parallelism.\")\n"
     ]
    },
    {
     "name": "stdout",
     "output_type": "stream",
     "text": [
      "| \u001b[39m69       \u001b[39m | \u001b[39m0.2478   \u001b[39m | \u001b[39m53.25    \u001b[39m | \u001b[39m0.1404   \u001b[39m | \u001b[39m96.6     \u001b[39m | \u001b[39m8.494    \u001b[39m | \u001b[39m165.0    \u001b[39m |\n"
     ]
    },
    {
     "name": "stderr",
     "output_type": "stream",
     "text": [
      "e:\\Anaconda1\\envs\\env_ml\\Lib\\site-packages\\umap\\umap_.py:1945: UserWarning: n_jobs value 1 overridden to 1 by setting random_state. Use no seed for parallelism.\n",
      "  warn(f\"n_jobs value {self.n_jobs} overridden to 1 by setting random_state. Use no seed for parallelism.\")\n"
     ]
    },
    {
     "name": "stdout",
     "output_type": "stream",
     "text": [
      "| \u001b[39m70       \u001b[39m | \u001b[39m0.4286   \u001b[39m | \u001b[39m50.0     \u001b[39m | \u001b[39m0.09391  \u001b[39m | \u001b[39m95.24    \u001b[39m | \u001b[39m7.812    \u001b[39m | \u001b[39m128.6    \u001b[39m |\n"
     ]
    },
    {
     "name": "stderr",
     "output_type": "stream",
     "text": [
      "e:\\Anaconda1\\envs\\env_ml\\Lib\\site-packages\\umap\\umap_.py:1945: UserWarning: n_jobs value 1 overridden to 1 by setting random_state. Use no seed for parallelism.\n",
      "  warn(f\"n_jobs value {self.n_jobs} overridden to 1 by setting random_state. Use no seed for parallelism.\")\n"
     ]
    },
    {
     "name": "stdout",
     "output_type": "stream",
     "text": [
      "| \u001b[39m71       \u001b[39m | \u001b[39m0.2674   \u001b[39m | \u001b[39m82.58    \u001b[39m | \u001b[39m0.1592   \u001b[39m | \u001b[39m82.31    \u001b[39m | \u001b[39m8.236    \u001b[39m | \u001b[39m86.89    \u001b[39m |\n"
     ]
    },
    {
     "name": "stderr",
     "output_type": "stream",
     "text": [
      "e:\\Anaconda1\\envs\\env_ml\\Lib\\site-packages\\umap\\umap_.py:1945: UserWarning: n_jobs value 1 overridden to 1 by setting random_state. Use no seed for parallelism.\n",
      "  warn(f\"n_jobs value {self.n_jobs} overridden to 1 by setting random_state. Use no seed for parallelism.\")\n"
     ]
    },
    {
     "name": "stdout",
     "output_type": "stream",
     "text": [
      "| \u001b[39m72       \u001b[39m | \u001b[39m0.324    \u001b[39m | \u001b[39m26.43    \u001b[39m | \u001b[39m0.2782   \u001b[39m | \u001b[39m46.9     \u001b[39m | \u001b[39m10.39    \u001b[39m | \u001b[39m48.76    \u001b[39m |\n"
     ]
    },
    {
     "name": "stderr",
     "output_type": "stream",
     "text": [
      "e:\\Anaconda1\\envs\\env_ml\\Lib\\site-packages\\umap\\umap_.py:1945: UserWarning: n_jobs value 1 overridden to 1 by setting random_state. Use no seed for parallelism.\n",
      "  warn(f\"n_jobs value {self.n_jobs} overridden to 1 by setting random_state. Use no seed for parallelism.\")\n"
     ]
    },
    {
     "name": "stdout",
     "output_type": "stream",
     "text": [
      "| \u001b[39m73       \u001b[39m | \u001b[39m0.2469   \u001b[39m | \u001b[39m7.428    \u001b[39m | \u001b[39m0.03048  \u001b[39m | \u001b[39m29.52    \u001b[39m | \u001b[39m5.597    \u001b[39m | \u001b[39m69.59    \u001b[39m |\n"
     ]
    },
    {
     "name": "stderr",
     "output_type": "stream",
     "text": [
      "e:\\Anaconda1\\envs\\env_ml\\Lib\\site-packages\\umap\\umap_.py:1945: UserWarning: n_jobs value 1 overridden to 1 by setting random_state. Use no seed for parallelism.\n",
      "  warn(f\"n_jobs value {self.n_jobs} overridden to 1 by setting random_state. Use no seed for parallelism.\")\n"
     ]
    },
    {
     "name": "stdout",
     "output_type": "stream",
     "text": [
      "| \u001b[39m74       \u001b[39m | \u001b[39m0.1785   \u001b[39m | \u001b[39m93.26    \u001b[39m | \u001b[39m0.9097   \u001b[39m | \u001b[39m62.75    \u001b[39m | \u001b[39m4.132    \u001b[39m | \u001b[39m133.4    \u001b[39m |\n"
     ]
    },
    {
     "name": "stderr",
     "output_type": "stream",
     "text": [
      "e:\\Anaconda1\\envs\\env_ml\\Lib\\site-packages\\umap\\umap_.py:1945: UserWarning: n_jobs value 1 overridden to 1 by setting random_state. Use no seed for parallelism.\n",
      "  warn(f\"n_jobs value {self.n_jobs} overridden to 1 by setting random_state. Use no seed for parallelism.\")\n"
     ]
    },
    {
     "name": "stdout",
     "output_type": "stream",
     "text": [
      "| \u001b[39m75       \u001b[39m | \u001b[39m0.2026   \u001b[39m | \u001b[39m57.29    \u001b[39m | \u001b[39m0.5364   \u001b[39m | \u001b[39m28.3     \u001b[39m | \u001b[39m3.683    \u001b[39m | \u001b[39m174.4    \u001b[39m |\n"
     ]
    },
    {
     "name": "stderr",
     "output_type": "stream",
     "text": [
      "e:\\Anaconda1\\envs\\env_ml\\Lib\\site-packages\\umap\\umap_.py:1945: UserWarning: n_jobs value 1 overridden to 1 by setting random_state. Use no seed for parallelism.\n",
      "  warn(f\"n_jobs value {self.n_jobs} overridden to 1 by setting random_state. Use no seed for parallelism.\")\n"
     ]
    },
    {
     "name": "stdout",
     "output_type": "stream",
     "text": [
      "| \u001b[39m76       \u001b[39m | \u001b[39m0.2136   \u001b[39m | \u001b[39m19.02    \u001b[39m | \u001b[39m0.1597   \u001b[39m | \u001b[39m24.13    \u001b[39m | \u001b[39m10.82    \u001b[39m | \u001b[39m213.3    \u001b[39m |\n"
     ]
    },
    {
     "name": "stderr",
     "output_type": "stream",
     "text": [
      "e:\\Anaconda1\\envs\\env_ml\\Lib\\site-packages\\umap\\umap_.py:1945: UserWarning: n_jobs value 1 overridden to 1 by setting random_state. Use no seed for parallelism.\n",
      "  warn(f\"n_jobs value {self.n_jobs} overridden to 1 by setting random_state. Use no seed for parallelism.\")\n"
     ]
    },
    {
     "name": "stdout",
     "output_type": "stream",
     "text": [
      "| \u001b[39m77       \u001b[39m | \u001b[39m0.4507   \u001b[39m | \u001b[39m91.24    \u001b[39m | \u001b[39m0.2511   \u001b[39m | \u001b[39m65.27    \u001b[39m | \u001b[39m8.486    \u001b[39m | \u001b[39m66.2     \u001b[39m |\n"
     ]
    },
    {
     "name": "stderr",
     "output_type": "stream",
     "text": [
      "e:\\Anaconda1\\envs\\env_ml\\Lib\\site-packages\\umap\\umap_.py:1945: UserWarning: n_jobs value 1 overridden to 1 by setting random_state. Use no seed for parallelism.\n",
      "  warn(f\"n_jobs value {self.n_jobs} overridden to 1 by setting random_state. Use no seed for parallelism.\")\n"
     ]
    },
    {
     "name": "stdout",
     "output_type": "stream",
     "text": [
      "| \u001b[39m78       \u001b[39m | \u001b[39m0.2747   \u001b[39m | \u001b[39m78.43    \u001b[39m | \u001b[39m0.7592   \u001b[39m | \u001b[39m93.15    \u001b[39m | \u001b[39m10.58    \u001b[39m | \u001b[39m194.7    \u001b[39m |\n"
     ]
    },
    {
     "name": "stderr",
     "output_type": "stream",
     "text": [
      "e:\\Anaconda1\\envs\\env_ml\\Lib\\site-packages\\umap\\umap_.py:1945: UserWarning: n_jobs value 1 overridden to 1 by setting random_state. Use no seed for parallelism.\n",
      "  warn(f\"n_jobs value {self.n_jobs} overridden to 1 by setting random_state. Use no seed for parallelism.\")\n"
     ]
    },
    {
     "name": "stdout",
     "output_type": "stream",
     "text": [
      "| \u001b[39m79       \u001b[39m | \u001b[39m0.328    \u001b[39m | \u001b[39m69.27    \u001b[39m | \u001b[39m0.3332   \u001b[39m | \u001b[39m93.44    \u001b[39m | \u001b[39m9.508    \u001b[39m | \u001b[39m282.2    \u001b[39m |\n"
     ]
    },
    {
     "name": "stderr",
     "output_type": "stream",
     "text": [
      "e:\\Anaconda1\\envs\\env_ml\\Lib\\site-packages\\umap\\umap_.py:1945: UserWarning: n_jobs value 1 overridden to 1 by setting random_state. Use no seed for parallelism.\n",
      "  warn(f\"n_jobs value {self.n_jobs} overridden to 1 by setting random_state. Use no seed for parallelism.\")\n"
     ]
    },
    {
     "name": "stdout",
     "output_type": "stream",
     "text": [
      "| \u001b[39m80       \u001b[39m | \u001b[39m0.1705   \u001b[39m | \u001b[39m43.06    \u001b[39m | \u001b[39m0.9863   \u001b[39m | \u001b[39m33.12    \u001b[39m | \u001b[39m5.368    \u001b[39m | \u001b[39m243.3    \u001b[39m |\n"
     ]
    },
    {
     "name": "stderr",
     "output_type": "stream",
     "text": [
      "e:\\Anaconda1\\envs\\env_ml\\Lib\\site-packages\\umap\\umap_.py:1945: UserWarning: n_jobs value 1 overridden to 1 by setting random_state. Use no seed for parallelism.\n",
      "  warn(f\"n_jobs value {self.n_jobs} overridden to 1 by setting random_state. Use no seed for parallelism.\")\n"
     ]
    },
    {
     "name": "stdout",
     "output_type": "stream",
     "text": [
      "| \u001b[39m81       \u001b[39m | \u001b[39m0.4463   \u001b[39m | \u001b[39m54.49    \u001b[39m | \u001b[39m0.4647   \u001b[39m | \u001b[39m62.81    \u001b[39m | \u001b[39m4.574    \u001b[39m | \u001b[39m153.1    \u001b[39m |\n"
     ]
    },
    {
     "name": "stderr",
     "output_type": "stream",
     "text": [
      "e:\\Anaconda1\\envs\\env_ml\\Lib\\site-packages\\umap\\umap_.py:1945: UserWarning: n_jobs value 1 overridden to 1 by setting random_state. Use no seed for parallelism.\n",
      "  warn(f\"n_jobs value {self.n_jobs} overridden to 1 by setting random_state. Use no seed for parallelism.\")\n"
     ]
    },
    {
     "name": "stdout",
     "output_type": "stream",
     "text": [
      "| \u001b[39m82       \u001b[39m | \u001b[39m0.1618   \u001b[39m | \u001b[39m33.13    \u001b[39m | \u001b[39m0.7981   \u001b[39m | \u001b[39m63.68    \u001b[39m | \u001b[39m5.552    \u001b[39m | \u001b[39m125.0    \u001b[39m |\n"
     ]
    },
    {
     "name": "stderr",
     "output_type": "stream",
     "text": [
      "e:\\Anaconda1\\envs\\env_ml\\Lib\\site-packages\\umap\\umap_.py:1945: UserWarning: n_jobs value 1 overridden to 1 by setting random_state. Use no seed for parallelism.\n",
      "  warn(f\"n_jobs value {self.n_jobs} overridden to 1 by setting random_state. Use no seed for parallelism.\")\n"
     ]
    },
    {
     "name": "stdout",
     "output_type": "stream",
     "text": [
      "| \u001b[39m83       \u001b[39m | \u001b[39m0.4359   \u001b[39m | \u001b[39m26.63    \u001b[39m | \u001b[39m0.308    \u001b[39m | \u001b[39m81.81    \u001b[39m | \u001b[39m6.891    \u001b[39m | \u001b[39m39.7     \u001b[39m |\n"
     ]
    },
    {
     "name": "stderr",
     "output_type": "stream",
     "text": [
      "e:\\Anaconda1\\envs\\env_ml\\Lib\\site-packages\\umap\\umap_.py:1945: UserWarning: n_jobs value 1 overridden to 1 by setting random_state. Use no seed for parallelism.\n",
      "  warn(f\"n_jobs value {self.n_jobs} overridden to 1 by setting random_state. Use no seed for parallelism.\")\n"
     ]
    },
    {
     "name": "stdout",
     "output_type": "stream",
     "text": [
      "| \u001b[39m84       \u001b[39m | \u001b[39m0.1265   \u001b[39m | \u001b[39m37.96    \u001b[39m | \u001b[39m0.5931   \u001b[39m | \u001b[39m7.169    \u001b[39m | \u001b[39m7.112    \u001b[39m | \u001b[39m200.6    \u001b[39m |\n"
     ]
    },
    {
     "name": "stderr",
     "output_type": "stream",
     "text": [
      "e:\\Anaconda1\\envs\\env_ml\\Lib\\site-packages\\umap\\umap_.py:1945: UserWarning: n_jobs value 1 overridden to 1 by setting random_state. Use no seed for parallelism.\n",
      "  warn(f\"n_jobs value {self.n_jobs} overridden to 1 by setting random_state. Use no seed for parallelism.\")\n"
     ]
    },
    {
     "name": "stdout",
     "output_type": "stream",
     "text": [
      "| \u001b[39m85       \u001b[39m | \u001b[39m0.2709   \u001b[39m | \u001b[39m91.57    \u001b[39m | \u001b[39m0.4206   \u001b[39m | \u001b[39m29.25    \u001b[39m | \u001b[39m6.033    \u001b[39m | \u001b[39m14.44    \u001b[39m |\n"
     ]
    },
    {
     "name": "stderr",
     "output_type": "stream",
     "text": [
      "e:\\Anaconda1\\envs\\env_ml\\Lib\\site-packages\\umap\\umap_.py:1945: UserWarning: n_jobs value 1 overridden to 1 by setting random_state. Use no seed for parallelism.\n",
      "  warn(f\"n_jobs value {self.n_jobs} overridden to 1 by setting random_state. Use no seed for parallelism.\")\n"
     ]
    },
    {
     "name": "stdout",
     "output_type": "stream",
     "text": [
      "| \u001b[39m86       \u001b[39m | \u001b[39m0.2845   \u001b[39m | \u001b[39m89.76    \u001b[39m | \u001b[39m0.358    \u001b[39m | \u001b[39m93.31    \u001b[39m | \u001b[39m2.231    \u001b[39m | \u001b[39m185.0    \u001b[39m |\n"
     ]
    },
    {
     "name": "stderr",
     "output_type": "stream",
     "text": [
      "e:\\Anaconda1\\envs\\env_ml\\Lib\\site-packages\\umap\\umap_.py:1945: UserWarning: n_jobs value 1 overridden to 1 by setting random_state. Use no seed for parallelism.\n",
      "  warn(f\"n_jobs value {self.n_jobs} overridden to 1 by setting random_state. Use no seed for parallelism.\")\n"
     ]
    },
    {
     "name": "stdout",
     "output_type": "stream",
     "text": [
      "| \u001b[39m87       \u001b[39m | \u001b[39m0.2631   \u001b[39m | \u001b[39m79.74    \u001b[39m | \u001b[39m0.4069   \u001b[39m | \u001b[39m9.002    \u001b[39m | \u001b[39m6.197    \u001b[39m | \u001b[39m80.2     \u001b[39m |\n"
     ]
    },
    {
     "name": "stderr",
     "output_type": "stream",
     "text": [
      "e:\\Anaconda1\\envs\\env_ml\\Lib\\site-packages\\umap\\umap_.py:1945: UserWarning: n_jobs value 1 overridden to 1 by setting random_state. Use no seed for parallelism.\n",
      "  warn(f\"n_jobs value {self.n_jobs} overridden to 1 by setting random_state. Use no seed for parallelism.\")\n"
     ]
    },
    {
     "name": "stdout",
     "output_type": "stream",
     "text": [
      "| \u001b[39m88       \u001b[39m | \u001b[39m0.05908  \u001b[39m | \u001b[39m90.89    \u001b[39m | \u001b[39m0.4354   \u001b[39m | \u001b[39m28.46    \u001b[39m | \u001b[39m7.458    \u001b[39m | \u001b[39m254.6    \u001b[39m |\n"
     ]
    },
    {
     "name": "stderr",
     "output_type": "stream",
     "text": [
      "e:\\Anaconda1\\envs\\env_ml\\Lib\\site-packages\\umap\\umap_.py:1945: UserWarning: n_jobs value 1 overridden to 1 by setting random_state. Use no seed for parallelism.\n",
      "  warn(f\"n_jobs value {self.n_jobs} overridden to 1 by setting random_state. Use no seed for parallelism.\")\n"
     ]
    },
    {
     "name": "stdout",
     "output_type": "stream",
     "text": [
      "| \u001b[39m89       \u001b[39m | \u001b[39m0.3036   \u001b[39m | \u001b[39m52.66    \u001b[39m | \u001b[39m0.03551  \u001b[39m | \u001b[39m57.27    \u001b[39m | \u001b[39m9.734    \u001b[39m | \u001b[39m133.6    \u001b[39m |\n"
     ]
    },
    {
     "name": "stderr",
     "output_type": "stream",
     "text": [
      "e:\\Anaconda1\\envs\\env_ml\\Lib\\site-packages\\umap\\umap_.py:1945: UserWarning: n_jobs value 1 overridden to 1 by setting random_state. Use no seed for parallelism.\n",
      "  warn(f\"n_jobs value {self.n_jobs} overridden to 1 by setting random_state. Use no seed for parallelism.\")\n"
     ]
    },
    {
     "name": "stdout",
     "output_type": "stream",
     "text": [
      "| \u001b[39m90       \u001b[39m | \u001b[39m0.04362  \u001b[39m | \u001b[39m48.58    \u001b[39m | \u001b[39m0.8712   \u001b[39m | \u001b[39m74.07    \u001b[39m | \u001b[39m4.081    \u001b[39m | \u001b[39m194.8    \u001b[39m |\n"
     ]
    },
    {
     "name": "stderr",
     "output_type": "stream",
     "text": [
      "e:\\Anaconda1\\envs\\env_ml\\Lib\\site-packages\\umap\\umap_.py:1945: UserWarning: n_jobs value 1 overridden to 1 by setting random_state. Use no seed for parallelism.\n",
      "  warn(f\"n_jobs value {self.n_jobs} overridden to 1 by setting random_state. Use no seed for parallelism.\")\n"
     ]
    },
    {
     "name": "stdout",
     "output_type": "stream",
     "text": [
      "| \u001b[39m91       \u001b[39m | \u001b[39m0.3328   \u001b[39m | \u001b[39m72.5     \u001b[39m | \u001b[39m0.2536   \u001b[39m | \u001b[39m30.85    \u001b[39m | \u001b[39m4.255    \u001b[39m | \u001b[39m97.97    \u001b[39m |\n"
     ]
    },
    {
     "name": "stderr",
     "output_type": "stream",
     "text": [
      "e:\\Anaconda1\\envs\\env_ml\\Lib\\site-packages\\umap\\umap_.py:1945: UserWarning: n_jobs value 1 overridden to 1 by setting random_state. Use no seed for parallelism.\n",
      "  warn(f\"n_jobs value {self.n_jobs} overridden to 1 by setting random_state. Use no seed for parallelism.\")\n"
     ]
    },
    {
     "name": "stdout",
     "output_type": "stream",
     "text": [
      "| \u001b[39m92       \u001b[39m | \u001b[39m0.3162   \u001b[39m | \u001b[39m88.8     \u001b[39m | \u001b[39m0.8576   \u001b[39m | \u001b[39m20.53    \u001b[39m | \u001b[39m8.568    \u001b[39m | \u001b[39m262.3    \u001b[39m |\n"
     ]
    },
    {
     "name": "stderr",
     "output_type": "stream",
     "text": [
      "e:\\Anaconda1\\envs\\env_ml\\Lib\\site-packages\\umap\\umap_.py:1945: UserWarning: n_jobs value 1 overridden to 1 by setting random_state. Use no seed for parallelism.\n",
      "  warn(f\"n_jobs value {self.n_jobs} overridden to 1 by setting random_state. Use no seed for parallelism.\")\n"
     ]
    },
    {
     "name": "stdout",
     "output_type": "stream",
     "text": [
      "| \u001b[39m93       \u001b[39m | \u001b[39m0.2226   \u001b[39m | \u001b[39m37.13    \u001b[39m | \u001b[39m0.0835   \u001b[39m | \u001b[39m72.2     \u001b[39m | \u001b[39m6.147    \u001b[39m | \u001b[39m255.0    \u001b[39m |\n"
     ]
    },
    {
     "name": "stderr",
     "output_type": "stream",
     "text": [
      "e:\\Anaconda1\\envs\\env_ml\\Lib\\site-packages\\umap\\umap_.py:1945: UserWarning: n_jobs value 1 overridden to 1 by setting random_state. Use no seed for parallelism.\n",
      "  warn(f\"n_jobs value {self.n_jobs} overridden to 1 by setting random_state. Use no seed for parallelism.\")\n"
     ]
    },
    {
     "name": "stdout",
     "output_type": "stream",
     "text": [
      "| \u001b[39m94       \u001b[39m | \u001b[39m0.008818 \u001b[39m | \u001b[39m79.66    \u001b[39m | \u001b[39m0.6714   \u001b[39m | \u001b[39m31.7     \u001b[39m | \u001b[39m3.055    \u001b[39m | \u001b[39m212.6    \u001b[39m |\n"
     ]
    },
    {
     "name": "stderr",
     "output_type": "stream",
     "text": [
      "e:\\Anaconda1\\envs\\env_ml\\Lib\\site-packages\\umap\\umap_.py:1945: UserWarning: n_jobs value 1 overridden to 1 by setting random_state. Use no seed for parallelism.\n",
      "  warn(f\"n_jobs value {self.n_jobs} overridden to 1 by setting random_state. Use no seed for parallelism.\")\n"
     ]
    },
    {
     "name": "stdout",
     "output_type": "stream",
     "text": [
      "| \u001b[39m95       \u001b[39m | \u001b[39m0.2948   \u001b[39m | \u001b[39m91.65    \u001b[39m | \u001b[39m0.1793   \u001b[39m | \u001b[39m74.59    \u001b[39m | \u001b[39m8.309    \u001b[39m | \u001b[39m126.0    \u001b[39m |\n"
     ]
    },
    {
     "name": "stderr",
     "output_type": "stream",
     "text": [
      "e:\\Anaconda1\\envs\\env_ml\\Lib\\site-packages\\umap\\umap_.py:1945: UserWarning: n_jobs value 1 overridden to 1 by setting random_state. Use no seed for parallelism.\n",
      "  warn(f\"n_jobs value {self.n_jobs} overridden to 1 by setting random_state. Use no seed for parallelism.\")\n"
     ]
    },
    {
     "name": "stdout",
     "output_type": "stream",
     "text": [
      "| \u001b[35m96       \u001b[39m | \u001b[35m0.5331   \u001b[39m | \u001b[35m50.4     \u001b[39m | \u001b[35m0.07053  \u001b[39m | \u001b[35m75.3     \u001b[39m | \u001b[35m2.764    \u001b[39m | \u001b[35m272.7    \u001b[39m |\n"
     ]
    },
    {
     "name": "stderr",
     "output_type": "stream",
     "text": [
      "e:\\Anaconda1\\envs\\env_ml\\Lib\\site-packages\\umap\\umap_.py:1945: UserWarning: n_jobs value 1 overridden to 1 by setting random_state. Use no seed for parallelism.\n",
      "  warn(f\"n_jobs value {self.n_jobs} overridden to 1 by setting random_state. Use no seed for parallelism.\")\n"
     ]
    },
    {
     "name": "stdout",
     "output_type": "stream",
     "text": [
      "| \u001b[39m97       \u001b[39m | \u001b[39m0.1693   \u001b[39m | \u001b[39m50.99    \u001b[39m | \u001b[39m0.5044   \u001b[39m | \u001b[39m78.56    \u001b[39m | \u001b[39m4.105    \u001b[39m | \u001b[39m89.21    \u001b[39m |\n"
     ]
    },
    {
     "name": "stderr",
     "output_type": "stream",
     "text": [
      "e:\\Anaconda1\\envs\\env_ml\\Lib\\site-packages\\umap\\umap_.py:1945: UserWarning: n_jobs value 1 overridden to 1 by setting random_state. Use no seed for parallelism.\n",
      "  warn(f\"n_jobs value {self.n_jobs} overridden to 1 by setting random_state. Use no seed for parallelism.\")\n"
     ]
    },
    {
     "name": "stdout",
     "output_type": "stream",
     "text": [
      "| \u001b[39m98       \u001b[39m | \u001b[39m0.4245   \u001b[39m | \u001b[39m34.1     \u001b[39m | \u001b[39m0.629    \u001b[39m | \u001b[39m60.59    \u001b[39m | \u001b[39m3.617    \u001b[39m | \u001b[39m31.62    \u001b[39m |\n"
     ]
    },
    {
     "name": "stderr",
     "output_type": "stream",
     "text": [
      "e:\\Anaconda1\\envs\\env_ml\\Lib\\site-packages\\umap\\umap_.py:1945: UserWarning: n_jobs value 1 overridden to 1 by setting random_state. Use no seed for parallelism.\n",
      "  warn(f\"n_jobs value {self.n_jobs} overridden to 1 by setting random_state. Use no seed for parallelism.\")\n"
     ]
    },
    {
     "name": "stdout",
     "output_type": "stream",
     "text": [
      "| \u001b[39m99       \u001b[39m | \u001b[39m0.2223   \u001b[39m | \u001b[39m31.31    \u001b[39m | \u001b[39m0.772    \u001b[39m | \u001b[39m50.79    \u001b[39m | \u001b[39m7.101    \u001b[39m | \u001b[39m58.4     \u001b[39m |\n"
     ]
    },
    {
     "name": "stderr",
     "output_type": "stream",
     "text": [
      "e:\\Anaconda1\\envs\\env_ml\\Lib\\site-packages\\umap\\umap_.py:1945: UserWarning: n_jobs value 1 overridden to 1 by setting random_state. Use no seed for parallelism.\n",
      "  warn(f\"n_jobs value {self.n_jobs} overridden to 1 by setting random_state. Use no seed for parallelism.\")\n"
     ]
    },
    {
     "name": "stdout",
     "output_type": "stream",
     "text": [
      "| \u001b[39m100      \u001b[39m | \u001b[39m0.4412   \u001b[39m | \u001b[39m62.88    \u001b[39m | \u001b[39m0.09639  \u001b[39m | \u001b[39m48.67    \u001b[39m | \u001b[39m9.802    \u001b[39m | \u001b[39m46.69    \u001b[39m |\n"
     ]
    },
    {
     "name": "stderr",
     "output_type": "stream",
     "text": [
      "e:\\Anaconda1\\envs\\env_ml\\Lib\\site-packages\\umap\\umap_.py:1945: UserWarning: n_jobs value 1 overridden to 1 by setting random_state. Use no seed for parallelism.\n",
      "  warn(f\"n_jobs value {self.n_jobs} overridden to 1 by setting random_state. Use no seed for parallelism.\")\n"
     ]
    },
    {
     "name": "stdout",
     "output_type": "stream",
     "text": [
      "| \u001b[39m101      \u001b[39m | \u001b[39m0.3059   \u001b[39m | \u001b[39m86.02    \u001b[39m | \u001b[39m0.9437   \u001b[39m | \u001b[39m82.79    \u001b[39m | \u001b[39m9.22     \u001b[39m | \u001b[39m75.47    \u001b[39m |\n"
     ]
    },
    {
     "name": "stderr",
     "output_type": "stream",
     "text": [
      "e:\\Anaconda1\\envs\\env_ml\\Lib\\site-packages\\umap\\umap_.py:1945: UserWarning: n_jobs value 1 overridden to 1 by setting random_state. Use no seed for parallelism.\n",
      "  warn(f\"n_jobs value {self.n_jobs} overridden to 1 by setting random_state. Use no seed for parallelism.\")\n"
     ]
    },
    {
     "name": "stdout",
     "output_type": "stream",
     "text": [
      "| \u001b[39m102      \u001b[39m | \u001b[39m0.4104   \u001b[39m | \u001b[39m92.29    \u001b[39m | \u001b[39m0.766    \u001b[39m | \u001b[39m52.29    \u001b[39m | \u001b[39m10.56    \u001b[39m | \u001b[39m216.3    \u001b[39m |\n",
      "=====================================================================================\n"
     ]
    },
    {
     "name": "stderr",
     "output_type": "stream",
     "text": [
      "e:\\Anaconda1\\envs\\env_ml\\Lib\\site-packages\\umap\\umap_.py:1945: UserWarning: n_jobs value 1 overridden to 1 by setting random_state. Use no seed for parallelism.\n",
      "  warn(f\"n_jobs value {self.n_jobs} overridden to 1 by setting random_state. Use no seed for parallelism.\")\n"
     ]
    },
    {
     "name": "stdout",
     "output_type": "stream",
     "text": [
      "Best UMAP and Clustering Parameters: {'min_cluster_size': 50.40422105735845, 'min_dist': 0.07053342736147672, 'min_samples': 75.29917648412412, 'n_components': 2.764193328040683, 'n_neighbors': 272.6695041939408}\n",
      "Best Silhouette Score: 0.5330919027328491\n",
      "Cluster 0, FileID in sequence: 0.0\n",
      "Cluster 0, FileID in sequence: 1.0\n",
      "Cluster 0, FileID in sequence: 2.0\n",
      "Cluster 0, FileID in sequence: 3.0\n",
      "Cluster 1, FileID in sequence: 0.0\n",
      "Cluster 1, FileID in sequence: 1.0\n",
      "Cluster 1, FileID in sequence: 2.0\n",
      "Cluster 1, FileID in sequence: 3.0\n",
      "Creating video from file: E:/UofT/ECE2500/batch1\\120_kSa_3p3_V_-340mV_offset.avi\n",
      "Video saved at: E:/UofT/ECE2500/video/batch1\\batch_1\\Umap+HDBSCAN\\cluster_0\\cluster_0_sequence_1.mp4\n",
      "Creating video from file: E:/UofT/ECE2500/batch1\\120_kSa_3p3_V_-340mV_offset.avi\n",
      "Video saved at: E:/UofT/ECE2500/video/batch1\\batch_1\\Umap+HDBSCAN\\cluster_0\\cluster_0_sequence_2.mp4\n",
      "Creating video from file: E:/UofT/ECE2500/batch1\\30_kSa_3p3_V_-340mV_offset.avi\n",
      "Video saved at: E:/UofT/ECE2500/video/batch1\\batch_1\\Umap+HDBSCAN\\cluster_1\\cluster_1_sequence_1.mp4\n",
      "Creating video from file: E:/UofT/ECE2500/batch1\\30_kSa_3p3_V_-340mV_offset.avi\n",
      "Video saved at: E:/UofT/ECE2500/video/batch1\\batch_1\\Umap+HDBSCAN\\cluster_1\\cluster_1_sequence_2.mp4\n",
      "Combining videos from E:/UofT/ECE2500/video/batch1\\batch_1\\Umap+HDBSCAN\\cluster_0 into E:/UofT/ECE2500/video/batch1\\batch_1\\Umap+HDBSCAN\\cluster_0_combined_sequences.mp4\n",
      "Combined video saved at: E:/UofT/ECE2500/video/batch1\\batch_1\\Umap+HDBSCAN\\cluster_0_combined_sequences.mp4\n",
      "Combining videos from E:/UofT/ECE2500/video/batch1\\batch_1\\Umap+HDBSCAN\\cluster_1 into E:/UofT/ECE2500/video/batch1\\batch_1\\Umap+HDBSCAN\\cluster_1_combined_sequences.mp4\n",
      "Combined video saved at: E:/UofT/ECE2500/video/batch1\\batch_1\\Umap+HDBSCAN\\cluster_1_combined_sequences.mp4\n"
     ]
    }
   ],
   "source": [
    "process_batch(\n",
    "    batch_folder = \"E:/UofT/ECE2500/batch1\",  \n",
    "    video_format = \"avi\",  \n",
    "    skiprows = 0,  \n",
    "    sep = \",\",  \n",
    "    decimal = \".\",  \n",
    "    batch_number = 1,\n",
    "    use_hdbscan=True,\n",
    "    n_neighbors_range=[5, 300],    \n",
    "    min_dist_range=[0, 1],\n",
    "    n_components_range=[2, 11],\n",
    "    n_clusters_range=range(2, 10),\n",
    "    min_cluster_size_range=[5, 100],\n",
    "    min_samples_range=[1, 100],  \n",
    "    output_folder='E:/UofT/ECE2500/video/batch1',\n",
    "    fps=15\n",
    ")\n"
   ]
  },
  {
   "cell_type": "code",
   "execution_count": null,
   "metadata": {},
   "outputs": [],
   "source": [
    "# Updated Test\n",
    "process_batch(\n",
    "    batch_folder = \"E:/UofT/ECE2500/batch1\",  \n",
    "    video_format = \"avi\",  \n",
    "    skiprows = 0,  \n",
    "    sep = \",\",  \n",
    "    decimal = \".\",  \n",
    "    batch_number = 1,\n",
    "    use_hdbscan=True,\n",
    "    n_neighbors_range=[10, 30, 50, 80, 100, 150, 180],    \n",
    "    min_dist_range=[0.1, 0.3, 0.5, 0.8],\n",
    "    n_components_range=[2, 3, 4, 5, 6, 7, 8, 9, 10],\n",
    "    n_clusters_range=range(2, 10),\n",
    "    min_cluster_size_range=[5, 10, 20, 30, 50],\n",
    "    min_samples_range=[ 5, 10, 20, 30, 50],  \n",
    "    output_folder='E:/UofT/ECE2500/video/batch1',\n",
    "    fps=15\n",
    ")\n"
   ]
  },
  {
   "cell_type": "code",
   "execution_count": null,
   "metadata": {},
   "outputs": [],
   "source": [
    "process_batch(\n",
    "    batch_folder = \"/Users/shawnyang/Desktop/UofT/ECE2500Y/ece2500Y/csv_coordinates/batch1\",  \n",
    "    video_format = \"avi\",  \n",
    "    skiprows = 0,  \n",
    "    sep = \",\",  \n",
    "    decimal = \".\",  \n",
    "    batch_number = 1,\n",
    "    use_hdbscan=True,\n",
    "    n_neighbors_range=[30, 50, 80, 100, 150],\n",
    "    min_dist_range=[0.1, 0.5, 0.8],\n",
    "    n_components_range=[3, 4, 5, 6, 7, 8],\n",
    "    n_clusters_range=range(2, 10),\n",
    "    min_cluster_size_range=[10, 30, 50],\n",
    "    min_samples_range=[10, 20, 30],\n",
    "    output_folder='/Users/shawnyang/Desktop/UofT/ECE2500Y/ece2500Y/Analysis/animation/new/batch1',\n",
    "    fps=15,\n",
    "    # resolution=(640, 480)\n",
    ")"
   ]
  },
  {
   "cell_type": "markdown",
   "metadata": {},
   "source": [
    "# Batch2"
   ]
  },
  {
   "cell_type": "code",
   "execution_count": null,
   "metadata": {},
   "outputs": [],
   "source": [
    "# Test\n",
    "process_batch(\n",
    "    batch_folder = \"/Users/shawnyang/Desktop/UofT/ECE2500Y/ece2500Y/csv_coordinates/batch2\",  \n",
    "    video_format = \"mp4\",  \n",
    "    skiprows = 0,  \n",
    "    sep = \",\",  \n",
    "    decimal = \".\",  \n",
    "    batch_number = 2,\n",
    "    use_hdbscan=False,\n",
    "    n_neighbors_range=[30, 50, 100],    \n",
    "    min_dist_range=[0.1, 0.5],\n",
    "    n_components_range=[2, 3, 4, 5],\n",
    "    n_clusters_range=range(2, 10),\n",
    "    min_cluster_size_range=[10,20],\n",
    "    min_samples_range=[10, 20],\n",
    "    output_folder='/Users/shawnyang/Desktop/UofT/ECE2500Y/ece2500Y/Analysis/animation/new/batch2',\n",
    "    fps=15,\n",
    "    # resolution=(640, 480)\n",
    ")"
   ]
  },
  {
   "cell_type": "markdown",
   "metadata": {},
   "source": [
    "# Batch3"
   ]
  },
  {
   "cell_type": "code",
   "execution_count": 644,
   "metadata": {},
   "outputs": [
    {
     "name": "stdout",
     "output_type": "stream",
     "text": [
      "/Users/shawnyang/Desktop/UofT/ECE2500Y/ece2500Y/csv_coordinates/batch3/*.mp4\n",
      "['/Users/shawnyang/Desktop/UofT/ECE2500Y/ece2500Y/csv_coordinates/batch3/Biphasic_120_Hz_channel_1_aDLC_resnet50_ECE2500Y-third_batchMar13shuffle2_200000_filtered.csv', '/Users/shawnyang/Desktop/UofT/ECE2500Y/ece2500Y/csv_coordinates/batch3/Biphasic_120_Hz_channel_1_bDLC_resnet50_ECE2500Y-third_batchMar13shuffle2_200000_filtered.csv', '/Users/shawnyang/Desktop/UofT/ECE2500Y/ece2500Y/csv_coordinates/batch3/Biphasic_120_Hz_channel_6_aDLC_resnet50_ECE2500Y-third_batchMar13shuffle2_200000_filtered.csv', '/Users/shawnyang/Desktop/UofT/ECE2500Y/ece2500Y/csv_coordinates/batch3/Biphasic_120_Hz_channel_6_bDLC_resnet50_ECE2500Y-third_batchMar13shuffle2_200000_filtered.csv', '/Users/shawnyang/Desktop/UofT/ECE2500Y/ece2500Y/csv_coordinates/batch3/Biphasic_30_Hz_channel_1_aDLC_resnet50_ECE2500Y-third_batchMar13shuffle2_200000_filtered.csv', '/Users/shawnyang/Desktop/UofT/ECE2500Y/ece2500Y/csv_coordinates/batch3/Biphasic_30_Hz_channel_1_bDLC_resnet50_ECE2500Y-third_batchMar13shuffle2_200000_filtered.csv', '/Users/shawnyang/Desktop/UofT/ECE2500Y/ece2500Y/csv_coordinates/batch3/Biphasic_30_Hz_channel_6_aDLC_resnet50_ECE2500Y-third_batchMar13shuffle2_200000_filtered.csv', '/Users/shawnyang/Desktop/UofT/ECE2500Y/ece2500Y/csv_coordinates/batch3/Biphasic_30_Hz_channel_6_bDLC_resnet50_ECE2500Y-third_batchMar13shuffle2_200000_filtered.csv', '/Users/shawnyang/Desktop/UofT/ECE2500Y/ece2500Y/csv_coordinates/batch3/Biphasic_60_Hz_channel_1_aDLC_resnet50_ECE2500Y-third_batchMar13shuffle2_200000_filtered.csv', '/Users/shawnyang/Desktop/UofT/ECE2500Y/ece2500Y/csv_coordinates/batch3/Biphasic_60_Hz_channel_1_bDLC_resnet50_ECE2500Y-third_batchMar13shuffle2_200000_filtered.csv', '/Users/shawnyang/Desktop/UofT/ECE2500Y/ece2500Y/csv_coordinates/batch3/Biphasic_60_Hz_channel_6_aDLC_resnet50_ECE2500Y-third_batchMar13shuffle2_200000_filtered.csv', '/Users/shawnyang/Desktop/UofT/ECE2500Y/ece2500Y/csv_coordinates/batch3/Biphasic_60_Hz_channel_6_bDLC_resnet50_ECE2500Y-third_batchMar13shuffle2_200000_filtered.csv', '/Users/shawnyang/Desktop/UofT/ECE2500Y/ece2500Y/csv_coordinates/batch3/Biphasic_90_Hz_channel_1_aDLC_resnet50_ECE2500Y-third_batchMar13shuffle2_200000_filtered.csv', '/Users/shawnyang/Desktop/UofT/ECE2500Y/ece2500Y/csv_coordinates/batch3/Biphasic_90_Hz_channel_1_bDLC_resnet50_ECE2500Y-third_batchMar13shuffle2_200000_filtered.csv', '/Users/shawnyang/Desktop/UofT/ECE2500Y/ece2500Y/csv_coordinates/batch3/Biphasic_90_Hz_channel_6_aDLC_resnet50_ECE2500Y-third_batchMar13shuffle2_200000_filtered.csv', '/Users/shawnyang/Desktop/UofT/ECE2500Y/ece2500Y/csv_coordinates/batch3/Biphasic_90_Hz_channel_6_bDLC_resnet50_ECE2500Y-third_batchMar13shuffle2_200000_filtered.csv']\n"
     ]
    },
    {
     "name": "stderr",
     "output_type": "stream",
     "text": [
      "/Users/shawnyang/miniconda/envs/tensorflow/lib/python3.9/site-packages/umap/umap_.py:1945: UserWarning: n_jobs value 1 overridden to 1 by setting random_state. Use no seed for parallelism.\n",
      "  warn(f\"n_jobs value {self.n_jobs} overridden to 1 by setting random_state. Use no seed for parallelism.\")\n",
      "/Users/shawnyang/miniconda/envs/tensorflow/lib/python3.9/site-packages/umap/umap_.py:1945: UserWarning: n_jobs value 1 overridden to 1 by setting random_state. Use no seed for parallelism.\n",
      "  warn(f\"n_jobs value {self.n_jobs} overridden to 1 by setting random_state. Use no seed for parallelism.\")\n",
      "/Users/shawnyang/miniconda/envs/tensorflow/lib/python3.9/site-packages/umap/umap_.py:1945: UserWarning: n_jobs value 1 overridden to 1 by setting random_state. Use no seed for parallelism.\n",
      "  warn(f\"n_jobs value {self.n_jobs} overridden to 1 by setting random_state. Use no seed for parallelism.\")\n",
      "/Users/shawnyang/miniconda/envs/tensorflow/lib/python3.9/site-packages/umap/umap_.py:1945: UserWarning: n_jobs value 1 overridden to 1 by setting random_state. Use no seed for parallelism.\n",
      "  warn(f\"n_jobs value {self.n_jobs} overridden to 1 by setting random_state. Use no seed for parallelism.\")\n",
      "/Users/shawnyang/miniconda/envs/tensorflow/lib/python3.9/site-packages/umap/umap_.py:1945: UserWarning: n_jobs value 1 overridden to 1 by setting random_state. Use no seed for parallelism.\n",
      "  warn(f\"n_jobs value {self.n_jobs} overridden to 1 by setting random_state. Use no seed for parallelism.\")\n",
      "/Users/shawnyang/miniconda/envs/tensorflow/lib/python3.9/site-packages/umap/umap_.py:1945: UserWarning: n_jobs value 1 overridden to 1 by setting random_state. Use no seed for parallelism.\n",
      "  warn(f\"n_jobs value {self.n_jobs} overridden to 1 by setting random_state. Use no seed for parallelism.\")\n",
      "/Users/shawnyang/miniconda/envs/tensorflow/lib/python3.9/site-packages/umap/umap_.py:1945: UserWarning: n_jobs value 1 overridden to 1 by setting random_state. Use no seed for parallelism.\n",
      "  warn(f\"n_jobs value {self.n_jobs} overridden to 1 by setting random_state. Use no seed for parallelism.\")\n",
      "/Users/shawnyang/miniconda/envs/tensorflow/lib/python3.9/site-packages/umap/umap_.py:1945: UserWarning: n_jobs value 1 overridden to 1 by setting random_state. Use no seed for parallelism.\n",
      "  warn(f\"n_jobs value {self.n_jobs} overridden to 1 by setting random_state. Use no seed for parallelism.\")\n",
      "/Users/shawnyang/miniconda/envs/tensorflow/lib/python3.9/site-packages/umap/umap_.py:1945: UserWarning: n_jobs value 1 overridden to 1 by setting random_state. Use no seed for parallelism.\n",
      "  warn(f\"n_jobs value {self.n_jobs} overridden to 1 by setting random_state. Use no seed for parallelism.\")\n",
      "/Users/shawnyang/miniconda/envs/tensorflow/lib/python3.9/site-packages/umap/umap_.py:1945: UserWarning: n_jobs value 1 overridden to 1 by setting random_state. Use no seed for parallelism.\n",
      "  warn(f\"n_jobs value {self.n_jobs} overridden to 1 by setting random_state. Use no seed for parallelism.\")\n",
      "/Users/shawnyang/miniconda/envs/tensorflow/lib/python3.9/site-packages/umap/umap_.py:1945: UserWarning: n_jobs value 1 overridden to 1 by setting random_state. Use no seed for parallelism.\n",
      "  warn(f\"n_jobs value {self.n_jobs} overridden to 1 by setting random_state. Use no seed for parallelism.\")\n",
      "/Users/shawnyang/miniconda/envs/tensorflow/lib/python3.9/site-packages/umap/umap_.py:1945: UserWarning: n_jobs value 1 overridden to 1 by setting random_state. Use no seed for parallelism.\n",
      "  warn(f\"n_jobs value {self.n_jobs} overridden to 1 by setting random_state. Use no seed for parallelism.\")\n",
      "/Users/shawnyang/miniconda/envs/tensorflow/lib/python3.9/site-packages/umap/umap_.py:1945: UserWarning: n_jobs value 1 overridden to 1 by setting random_state. Use no seed for parallelism.\n",
      "  warn(f\"n_jobs value {self.n_jobs} overridden to 1 by setting random_state. Use no seed for parallelism.\")\n",
      "/Users/shawnyang/miniconda/envs/tensorflow/lib/python3.9/site-packages/umap/umap_.py:1945: UserWarning: n_jobs value 1 overridden to 1 by setting random_state. Use no seed for parallelism.\n",
      "  warn(f\"n_jobs value {self.n_jobs} overridden to 1 by setting random_state. Use no seed for parallelism.\")\n",
      "/Users/shawnyang/miniconda/envs/tensorflow/lib/python3.9/site-packages/umap/umap_.py:1945: UserWarning: n_jobs value 1 overridden to 1 by setting random_state. Use no seed for parallelism.\n",
      "  warn(f\"n_jobs value {self.n_jobs} overridden to 1 by setting random_state. Use no seed for parallelism.\")\n",
      "/Users/shawnyang/miniconda/envs/tensorflow/lib/python3.9/site-packages/umap/umap_.py:1945: UserWarning: n_jobs value 1 overridden to 1 by setting random_state. Use no seed for parallelism.\n",
      "  warn(f\"n_jobs value {self.n_jobs} overridden to 1 by setting random_state. Use no seed for parallelism.\")\n",
      "/Users/shawnyang/miniconda/envs/tensorflow/lib/python3.9/site-packages/umap/umap_.py:1945: UserWarning: n_jobs value 1 overridden to 1 by setting random_state. Use no seed for parallelism.\n",
      "  warn(f\"n_jobs value {self.n_jobs} overridden to 1 by setting random_state. Use no seed for parallelism.\")\n",
      "/Users/shawnyang/miniconda/envs/tensorflow/lib/python3.9/site-packages/umap/umap_.py:1945: UserWarning: n_jobs value 1 overridden to 1 by setting random_state. Use no seed for parallelism.\n",
      "  warn(f\"n_jobs value {self.n_jobs} overridden to 1 by setting random_state. Use no seed for parallelism.\")\n",
      "/Users/shawnyang/miniconda/envs/tensorflow/lib/python3.9/site-packages/umap/umap_.py:1945: UserWarning: n_jobs value 1 overridden to 1 by setting random_state. Use no seed for parallelism.\n",
      "  warn(f\"n_jobs value {self.n_jobs} overridden to 1 by setting random_state. Use no seed for parallelism.\")\n",
      "/Users/shawnyang/miniconda/envs/tensorflow/lib/python3.9/site-packages/umap/umap_.py:1945: UserWarning: n_jobs value 1 overridden to 1 by setting random_state. Use no seed for parallelism.\n",
      "  warn(f\"n_jobs value {self.n_jobs} overridden to 1 by setting random_state. Use no seed for parallelism.\")\n",
      "/Users/shawnyang/miniconda/envs/tensorflow/lib/python3.9/site-packages/umap/umap_.py:1945: UserWarning: n_jobs value 1 overridden to 1 by setting random_state. Use no seed for parallelism.\n",
      "  warn(f\"n_jobs value {self.n_jobs} overridden to 1 by setting random_state. Use no seed for parallelism.\")\n",
      "/Users/shawnyang/miniconda/envs/tensorflow/lib/python3.9/site-packages/umap/umap_.py:1945: UserWarning: n_jobs value 1 overridden to 1 by setting random_state. Use no seed for parallelism.\n",
      "  warn(f\"n_jobs value {self.n_jobs} overridden to 1 by setting random_state. Use no seed for parallelism.\")\n",
      "/Users/shawnyang/miniconda/envs/tensorflow/lib/python3.9/site-packages/umap/umap_.py:1945: UserWarning: n_jobs value 1 overridden to 1 by setting random_state. Use no seed for parallelism.\n",
      "  warn(f\"n_jobs value {self.n_jobs} overridden to 1 by setting random_state. Use no seed for parallelism.\")\n",
      "/Users/shawnyang/miniconda/envs/tensorflow/lib/python3.9/site-packages/umap/umap_.py:1945: UserWarning: n_jobs value 1 overridden to 1 by setting random_state. Use no seed for parallelism.\n",
      "  warn(f\"n_jobs value {self.n_jobs} overridden to 1 by setting random_state. Use no seed for parallelism.\")\n",
      "/Users/shawnyang/miniconda/envs/tensorflow/lib/python3.9/site-packages/umap/umap_.py:1945: UserWarning: n_jobs value 1 overridden to 1 by setting random_state. Use no seed for parallelism.\n",
      "  warn(f\"n_jobs value {self.n_jobs} overridden to 1 by setting random_state. Use no seed for parallelism.\")\n",
      "/Users/shawnyang/miniconda/envs/tensorflow/lib/python3.9/site-packages/umap/umap_.py:1945: UserWarning: n_jobs value 1 overridden to 1 by setting random_state. Use no seed for parallelism.\n",
      "  warn(f\"n_jobs value {self.n_jobs} overridden to 1 by setting random_state. Use no seed for parallelism.\")\n",
      "/Users/shawnyang/miniconda/envs/tensorflow/lib/python3.9/site-packages/umap/umap_.py:1945: UserWarning: n_jobs value 1 overridden to 1 by setting random_state. Use no seed for parallelism.\n",
      "  warn(f\"n_jobs value {self.n_jobs} overridden to 1 by setting random_state. Use no seed for parallelism.\")\n",
      "/Users/shawnyang/miniconda/envs/tensorflow/lib/python3.9/site-packages/umap/umap_.py:1945: UserWarning: n_jobs value 1 overridden to 1 by setting random_state. Use no seed for parallelism.\n",
      "  warn(f\"n_jobs value {self.n_jobs} overridden to 1 by setting random_state. Use no seed for parallelism.\")\n",
      "/Users/shawnyang/miniconda/envs/tensorflow/lib/python3.9/site-packages/umap/umap_.py:1945: UserWarning: n_jobs value 1 overridden to 1 by setting random_state. Use no seed for parallelism.\n",
      "  warn(f\"n_jobs value {self.n_jobs} overridden to 1 by setting random_state. Use no seed for parallelism.\")\n",
      "/Users/shawnyang/miniconda/envs/tensorflow/lib/python3.9/site-packages/umap/umap_.py:1945: UserWarning: n_jobs value 1 overridden to 1 by setting random_state. Use no seed for parallelism.\n",
      "  warn(f\"n_jobs value {self.n_jobs} overridden to 1 by setting random_state. Use no seed for parallelism.\")\n",
      "/Users/shawnyang/miniconda/envs/tensorflow/lib/python3.9/site-packages/umap/umap_.py:1945: UserWarning: n_jobs value 1 overridden to 1 by setting random_state. Use no seed for parallelism.\n",
      "  warn(f\"n_jobs value {self.n_jobs} overridden to 1 by setting random_state. Use no seed for parallelism.\")\n",
      "/Users/shawnyang/miniconda/envs/tensorflow/lib/python3.9/site-packages/umap/umap_.py:1945: UserWarning: n_jobs value 1 overridden to 1 by setting random_state. Use no seed for parallelism.\n",
      "  warn(f\"n_jobs value {self.n_jobs} overridden to 1 by setting random_state. Use no seed for parallelism.\")\n",
      "/Users/shawnyang/miniconda/envs/tensorflow/lib/python3.9/site-packages/umap/umap_.py:1945: UserWarning: n_jobs value 1 overridden to 1 by setting random_state. Use no seed for parallelism.\n",
      "  warn(f\"n_jobs value {self.n_jobs} overridden to 1 by setting random_state. Use no seed for parallelism.\")\n",
      "/Users/shawnyang/miniconda/envs/tensorflow/lib/python3.9/site-packages/umap/umap_.py:1945: UserWarning: n_jobs value 1 overridden to 1 by setting random_state. Use no seed for parallelism.\n",
      "  warn(f\"n_jobs value {self.n_jobs} overridden to 1 by setting random_state. Use no seed for parallelism.\")\n",
      "/Users/shawnyang/miniconda/envs/tensorflow/lib/python3.9/site-packages/umap/umap_.py:1945: UserWarning: n_jobs value 1 overridden to 1 by setting random_state. Use no seed for parallelism.\n",
      "  warn(f\"n_jobs value {self.n_jobs} overridden to 1 by setting random_state. Use no seed for parallelism.\")\n",
      "/Users/shawnyang/miniconda/envs/tensorflow/lib/python3.9/site-packages/umap/umap_.py:1945: UserWarning: n_jobs value 1 overridden to 1 by setting random_state. Use no seed for parallelism.\n",
      "  warn(f\"n_jobs value {self.n_jobs} overridden to 1 by setting random_state. Use no seed for parallelism.\")\n",
      "/Users/shawnyang/miniconda/envs/tensorflow/lib/python3.9/site-packages/umap/umap_.py:1945: UserWarning: n_jobs value 1 overridden to 1 by setting random_state. Use no seed for parallelism.\n",
      "  warn(f\"n_jobs value {self.n_jobs} overridden to 1 by setting random_state. Use no seed for parallelism.\")\n",
      "/Users/shawnyang/miniconda/envs/tensorflow/lib/python3.9/site-packages/umap/umap_.py:1945: UserWarning: n_jobs value 1 overridden to 1 by setting random_state. Use no seed for parallelism.\n",
      "  warn(f\"n_jobs value {self.n_jobs} overridden to 1 by setting random_state. Use no seed for parallelism.\")\n",
      "/Users/shawnyang/miniconda/envs/tensorflow/lib/python3.9/site-packages/umap/umap_.py:1945: UserWarning: n_jobs value 1 overridden to 1 by setting random_state. Use no seed for parallelism.\n",
      "  warn(f\"n_jobs value {self.n_jobs} overridden to 1 by setting random_state. Use no seed for parallelism.\")\n",
      "/Users/shawnyang/miniconda/envs/tensorflow/lib/python3.9/site-packages/umap/umap_.py:1945: UserWarning: n_jobs value 1 overridden to 1 by setting random_state. Use no seed for parallelism.\n",
      "  warn(f\"n_jobs value {self.n_jobs} overridden to 1 by setting random_state. Use no seed for parallelism.\")\n",
      "/Users/shawnyang/miniconda/envs/tensorflow/lib/python3.9/site-packages/umap/umap_.py:1945: UserWarning: n_jobs value 1 overridden to 1 by setting random_state. Use no seed for parallelism.\n",
      "  warn(f\"n_jobs value {self.n_jobs} overridden to 1 by setting random_state. Use no seed for parallelism.\")\n",
      "/Users/shawnyang/miniconda/envs/tensorflow/lib/python3.9/site-packages/umap/umap_.py:1945: UserWarning: n_jobs value 1 overridden to 1 by setting random_state. Use no seed for parallelism.\n",
      "  warn(f\"n_jobs value {self.n_jobs} overridden to 1 by setting random_state. Use no seed for parallelism.\")\n",
      "/Users/shawnyang/miniconda/envs/tensorflow/lib/python3.9/site-packages/umap/umap_.py:1945: UserWarning: n_jobs value 1 overridden to 1 by setting random_state. Use no seed for parallelism.\n",
      "  warn(f\"n_jobs value {self.n_jobs} overridden to 1 by setting random_state. Use no seed for parallelism.\")\n",
      "/Users/shawnyang/miniconda/envs/tensorflow/lib/python3.9/site-packages/umap/umap_.py:1945: UserWarning: n_jobs value 1 overridden to 1 by setting random_state. Use no seed for parallelism.\n",
      "  warn(f\"n_jobs value {self.n_jobs} overridden to 1 by setting random_state. Use no seed for parallelism.\")\n",
      "/Users/shawnyang/miniconda/envs/tensorflow/lib/python3.9/site-packages/umap/umap_.py:1945: UserWarning: n_jobs value 1 overridden to 1 by setting random_state. Use no seed for parallelism.\n",
      "  warn(f\"n_jobs value {self.n_jobs} overridden to 1 by setting random_state. Use no seed for parallelism.\")\n",
      "/Users/shawnyang/miniconda/envs/tensorflow/lib/python3.9/site-packages/umap/umap_.py:1945: UserWarning: n_jobs value 1 overridden to 1 by setting random_state. Use no seed for parallelism.\n",
      "  warn(f\"n_jobs value {self.n_jobs} overridden to 1 by setting random_state. Use no seed for parallelism.\")\n",
      "/Users/shawnyang/miniconda/envs/tensorflow/lib/python3.9/site-packages/umap/umap_.py:1945: UserWarning: n_jobs value 1 overridden to 1 by setting random_state. Use no seed for parallelism.\n",
      "  warn(f\"n_jobs value {self.n_jobs} overridden to 1 by setting random_state. Use no seed for parallelism.\")\n",
      "/Users/shawnyang/miniconda/envs/tensorflow/lib/python3.9/site-packages/umap/umap_.py:1945: UserWarning: n_jobs value 1 overridden to 1 by setting random_state. Use no seed for parallelism.\n",
      "  warn(f\"n_jobs value {self.n_jobs} overridden to 1 by setting random_state. Use no seed for parallelism.\")\n"
     ]
    },
    {
     "name": "stdout",
     "output_type": "stream",
     "text": [
      "Best UMAP and Clustering Parameters: {'n_neighbors': 30, 'min_dist': 0.3, 'n_components': 3, 'min_cluster_size': 10, 'min_samples': 20}\n",
      "Cluster 1, FileID in sequence: 0.0\n",
      "Cluster 1, FileID in sequence: 1.0\n",
      "Cluster 1, FileID in sequence: 2.0\n",
      "Cluster 1, FileID in sequence: 3.0\n",
      "Cluster 1, FileID in sequence: 4.0\n",
      "Cluster 1, FileID in sequence: 5.0\n",
      "Cluster 1, FileID in sequence: 6.0\n",
      "Cluster 1, FileID in sequence: 7.0\n",
      "Cluster 1, FileID in sequence: 8.0\n",
      "Cluster 1, FileID in sequence: 9.0\n",
      "Cluster 1, FileID in sequence: 10.0\n",
      "Cluster 1, FileID in sequence: 11.0\n",
      "Cluster 1, FileID in sequence: 12.0\n",
      "Cluster 1, FileID in sequence: 13.0\n",
      "Cluster 1, FileID in sequence: 14.0\n",
      "Cluster 1, FileID in sequence: 15.0\n",
      "Cluster 0, FileID in sequence: 4.0\n",
      "Creating video from file: /Users/shawnyang/Desktop/UofT/ECE2500Y/ece2500Y/csv_coordinates/batch3/Biphasic_120_Hz_channel_1_a.mp4\n",
      "Video saved at: /Users/shawnyang/Desktop/UofT/ECE2500Y/ece2500Y/Analysis/animation/new/batch3/batch_3/Umap+HDBSCAN/cluster_0/cluster_0_sequence_1.mp4\n",
      "Creating video from file: /Users/shawnyang/Desktop/UofT/ECE2500Y/ece2500Y/csv_coordinates/batch3/Biphasic_30_Hz_channel_1_a.mp4\n",
      "Video saved at: /Users/shawnyang/Desktop/UofT/ECE2500Y/ece2500Y/Analysis/animation/new/batch3/batch_3/Umap+HDBSCAN/cluster_0/cluster_0_sequence_2.mp4\n",
      "Creating video from file: /Users/shawnyang/Desktop/UofT/ECE2500Y/ece2500Y/csv_coordinates/batch3/Biphasic_120_Hz_channel_1_b.mp4\n",
      "Video saved at: /Users/shawnyang/Desktop/UofT/ECE2500Y/ece2500Y/Analysis/animation/new/batch3/batch_3/Umap+HDBSCAN/cluster_1/cluster_1_sequence_1.mp4\n",
      "Combining videos from /Users/shawnyang/Desktop/UofT/ECE2500Y/ece2500Y/Analysis/animation/new/batch3/batch_3/Umap+HDBSCAN/cluster_0 into /Users/shawnyang/Desktop/UofT/ECE2500Y/ece2500Y/Analysis/animation/new/batch3/batch_3/Umap+HDBSCAN/cluster_0_combined_sequences.mp4\n",
      "Combined video saved at: /Users/shawnyang/Desktop/UofT/ECE2500Y/ece2500Y/Analysis/animation/new/batch3/batch_3/Umap+HDBSCAN/cluster_0_combined_sequences.mp4\n",
      "Combining videos from /Users/shawnyang/Desktop/UofT/ECE2500Y/ece2500Y/Analysis/animation/new/batch3/batch_3/Umap+HDBSCAN/cluster_1 into /Users/shawnyang/Desktop/UofT/ECE2500Y/ece2500Y/Analysis/animation/new/batch3/batch_3/Umap+HDBSCAN/cluster_1_combined_sequences.mp4\n",
      "Combined video saved at: /Users/shawnyang/Desktop/UofT/ECE2500Y/ece2500Y/Analysis/animation/new/batch3/batch_3/Umap+HDBSCAN/cluster_1_combined_sequences.mp4\n"
     ]
    }
   ],
   "source": [
    "process_batch(\n",
    "    batch_folder = \"/Users/shawnyang/Desktop/UofT/ECE2500Y/ece2500Y/csv_coordinates/batch3\",  \n",
    "    video_format = \"mp4\",  \n",
    "    skiprows = 0,  \n",
    "    sep = \",\",  \n",
    "    decimal = \".\",  \n",
    "    batch_number = 3,\n",
    "    use_hdbscan=True,\n",
    "    n_neighbors_range=[30, 50, 100, 150],    \n",
    "    min_dist_range=[0.1,0.3, 0.5],\n",
    "    n_components_range=[2, 3, 4, 5],\n",
    "    n_clusters_range=range(2, 8),\n",
    "    min_cluster_size_range=[10,20,30],\n",
    "    min_samples_range=[5,10, 20],\n",
    "    output_folder='/Users/shawnyang/Desktop/UofT/ECE2500Y/ece2500Y/Analysis/animation/new/batch3',\n",
    "    fps=15,\n",
    "    # resolution=(640, 480)\n",
    ")"
   ]
  },
  {
   "cell_type": "code",
   "execution_count": null,
   "metadata": {},
   "outputs": [],
   "source": [
    "process_batch(\n",
    "    batch_folder = \"/Users/shawnyang/Desktop/UofT/ECE2500Y/ece2500Y/csv_coordinates/batch3\",  \n",
    "    video_format = \"mp4\",  \n",
    "    skiprows = 0,  \n",
    "    sep = \",\",  \n",
    "    decimal = \".\",  \n",
    "    batch_number = 3,\n",
    "    use_hdbscan=True,\n",
    "    n_neighbors_range=[30, 50, 100, 150],    \n",
    "    min_dist_range=[0.1,0.3, 0.5],\n",
    "    n_components_range=[2, 3, 4, 5],\n",
    "    n_clusters_range=range(2, 8),\n",
    "    min_cluster_size_range=[10,20,30],\n",
    "    min_samples_range=[5,10, 20],\n",
    "    output_folder='/Users/shawnyang/Desktop/UofT/ECE2500Y/ece2500Y/Analysis/animation/new/batch3',\n",
    "    fps=15,\n",
    "    # resolution=(640, 480)\n",
    ")"
   ]
  },
  {
   "cell_type": "markdown",
   "metadata": {},
   "source": [
    "# Batch4"
   ]
  },
  {
   "cell_type": "code",
   "execution_count": null,
   "metadata": {},
   "outputs": [],
   "source": [
    "process_batch(\n",
    "    batch_folder = \"/Users/shawnyang/Desktop/UofT/ECE2500Y/ece2500Y/csv_coordinates/batch4\",  \n",
    "    video_format = \"mp4\",  \n",
    "    skiprows = 0,  \n",
    "    sep = \",\",  \n",
    "    decimal = \".\",  \n",
    "    batch_number = 4,\n",
    "    use_hdbscan=True,\n",
    "    n_neighbors_range=[30, 50, 100, 150],    \n",
    "    min_dist_range=[0.1,0.3, 0.5],\n",
    "    n_components_range=[2, 3, 4, 5],\n",
    "    n_clusters_range=range(2, 8),\n",
    "    min_cluster_size_range=[10,20,30],\n",
    "    min_samples_range=[5,10, 20],\n",
    "    output_folder='/Users/shawnyang/Desktop/UofT/ECE2500Y/ece2500Y/Analysis/animation/new/batch4',\n",
    "    fps=15,\n",
    "    # resolution=(640, 480)\n",
    ")"
   ]
  },
  {
   "cell_type": "markdown",
   "metadata": {},
   "source": [
    "# Batch9"
   ]
  },
  {
   "cell_type": "code",
   "execution_count": null,
   "metadata": {},
   "outputs": [],
   "source": [
    "process_batch(\n",
    "    batch_folder = \"/Users/shawnyang/Desktop/UofT/ECE2500Y/ece2500Y/csv_coordinates/batch9\",  \n",
    "    video_format = \"mp4\",  \n",
    "    skiprows = 0,  \n",
    "    sep = \",\",  \n",
    "    decimal = \".\",  \n",
    "    batch_number = 4,\n",
    "    use_hdbscan=True,\n",
    "    n_neighbors_range=[30, 50, 100, 150],    \n",
    "    min_dist_range=[0.1, 0.3, 0.5],\n",
    "    n_components_range=[2, 3, 4, 5],\n",
    "    n_clusters_range=range(2, 8),\n",
    "    min_cluster_size_range=[10,20,30],\n",
    "    min_samples_range=[5,10, 20],\n",
    "    output_folder='/Users/shawnyang/Desktop/UofT/ECE2500Y/ece2500Y/Analysis/animation/new/batch9',\n",
    "    fps=15,\n",
    "    # resolution=(640, 480)\n",
    ")"
   ]
  },
  {
   "cell_type": "code",
   "execution_count": null,
   "metadata": {},
   "outputs": [],
   "source": [
    "process_batch(\n",
    "    batch_folder = \"/Users/shawnyang/Desktop/UofT/ECE2500Y/ece2500Y/csv_coordinates/batch9\",  \n",
    "    video_format = \"mp4\",  \n",
    "    skiprows = 0,  \n",
    "    sep = \",\",  \n",
    "    decimal = \".\",  \n",
    "    batch_number = 9,\n",
    "    use_hdbscan=False,  \n",
    "    n_neighbors_range=[30, 50, 100, 150],    \n",
    "    min_dist_range=[0.1, 0.3, 0.5],\n",
    "    n_components_range=[2, 3, 4, 5],\n",
    "    n_clusters_range=range(2, 8),\n",
    "    min_cluster_size_range=[10,20,30],\n",
    "    min_samples_range=[5,10, 20],\n",
    "    output_folder='/Users/shawnyang/Desktop/UofT/ECE2500Y/ece2500Y/Analysis/animation/new/batch9',\n",
    "    fps=15,\n",
    "    # resolution=(640, 480)\n",
    ")"
   ]
  },
  {
   "cell_type": "markdown",
   "metadata": {},
   "source": [
    "# Batch10"
   ]
  },
  {
   "cell_type": "code",
   "execution_count": null,
   "metadata": {},
   "outputs": [
    {
     "name": "stdout",
     "output_type": "stream",
     "text": [
      "E:/UofT/ECE2500/batch10/*.mp4\n",
      "['E:/UofT/ECE2500/batch10\\\\TIS Sweep 1_100-1726266331DLC_resnet50_batch_10Sep21shuffle1_150000_filtered.csv', 'E:/UofT/ECE2500/batch10\\\\TIS Sweep 1_99-1726264847DLC_resnet50_batch_10Sep21shuffle1_150000_filtered.csv', 'E:/UofT/ECE2500/batch10\\\\TIS Sweep 2_100-1726266894DLC_resnet50_batch_10Sep21shuffle1_150000_filtered.csv', 'E:/UofT/ECE2500/batch10\\\\TIS Sweep 2_99-1726267369DLC_resnet50_batch_10Sep21shuffle1_150000_filtered.csv']\n",
      "|   iter    |  target   | min_cl... | min_dist  | min_sa... | n_comp... | n_neig... |\n",
      "-------------------------------------------------------------------------------------\n"
     ]
    },
    {
     "name": "stderr",
     "output_type": "stream",
     "text": [
      "e:\\Anaconda1\\envs\\env_ml\\Lib\\site-packages\\umap\\umap_.py:1945: UserWarning: n_jobs value 1 overridden to 1 by setting random_state. Use no seed for parallelism.\n",
      "  warn(f\"n_jobs value {self.n_jobs} overridden to 1 by setting random_state. Use no seed for parallelism.\")\n"
     ]
    },
    {
     "name": "stdout",
     "output_type": "stream",
     "text": [
      "| \u001b[39m1        \u001b[39m | \u001b[39m-0.01124 \u001b[39m | \u001b[39m21.85    \u001b[39m | \u001b[39m0.7606   \u001b[39m | \u001b[39m36.87    \u001b[39m | \u001b[39m5.592    \u001b[39m | \u001b[39m43.22    \u001b[39m |\n"
     ]
    },
    {
     "name": "stderr",
     "output_type": "stream",
     "text": [
      "e:\\Anaconda1\\envs\\env_ml\\Lib\\site-packages\\umap\\umap_.py:1945: UserWarning: n_jobs value 1 overridden to 1 by setting random_state. Use no seed for parallelism.\n",
      "  warn(f\"n_jobs value {self.n_jobs} overridden to 1 by setting random_state. Use no seed for parallelism.\")\n"
     ]
    },
    {
     "name": "stdout",
     "output_type": "stream",
     "text": [
      "| \u001b[35m2        \u001b[39m | \u001b[35m0.1773   \u001b[39m | \u001b[35m12.02    \u001b[39m | \u001b[35m0.04647  \u001b[39m | \u001b[35m43.44    \u001b[39m | \u001b[35m5.607    \u001b[39m | \u001b[35m178.5    \u001b[39m |\n"
     ]
    },
    {
     "name": "stderr",
     "output_type": "stream",
     "text": [
      "e:\\Anaconda1\\envs\\env_ml\\Lib\\site-packages\\umap\\umap_.py:1945: UserWarning: n_jobs value 1 overridden to 1 by setting random_state. Use no seed for parallelism.\n",
      "  warn(f\"n_jobs value {self.n_jobs} overridden to 1 by setting random_state. Use no seed for parallelism.\")\n"
     ]
    }
   ],
   "source": [
    "process_batch(\n",
    "    batch_folder = \"E:/UofT/ECE2500/batch10\",  \n",
    "    video_format = \"mp4\",  \n",
    "    skiprows = 0,  \n",
    "    sep = \",\",  \n",
    "    decimal = \".\",  \n",
    "    batch_number = 10,\n",
    "    use_hdbscan=True,\n",
    "    n_neighbors_range=[5, 250],    \n",
    "    min_dist_range=[0, 0.8],\n",
    "    n_components_range=[2, 8],\n",
    "    n_clusters_range=range(2, 10),\n",
    "    min_cluster_size_range=[5, 50],\n",
    "    min_samples_range=[1, 50],  \n",
    "    output_folder='E:/UofT/ECE2500/video/batch10',\n",
    "    fps=15\n",
    ")\n"
   ]
  },
  {
   "cell_type": "code",
   "execution_count": null,
   "metadata": {},
   "outputs": [],
   "source": [
    "process_batch(\n",
    "    batch_folder = \"E:/UofT/ECE2500/batch10\",  \n",
    "    video_format = \"mp4\",  \n",
    "    skiprows = 0,  \n",
    "    sep = \",\",  \n",
    "    decimal = \".\",  \n",
    "    batch_number = 10,\n",
    "    use_hdbscan=True,\n",
    "    n_neighbors_range=[30, 50, 100, 150],    \n",
    "    n_components_range=[2, 3, 4, 5],\n",
    "    n_clusters_range=range(2, 8),\n",
    "    min_cluster_size_range=[10,20,30],\n",
    "    output_folder='E:/UofT/ECE2500/video/batch10',\n",
    "    fps=15,\n",
    "    # resolution=(640, 480)\n",
    ")"
   ]
  }
 ],
 "metadata": {
  "kernelspec": {
   "display_name": "env_ml",
   "language": "python",
   "name": "python3"
  },
  "language_info": {
   "codemirror_mode": {
    "name": "ipython",
    "version": 3
   },
   "file_extension": ".py",
   "mimetype": "text/x-python",
   "name": "python",
   "nbconvert_exporter": "python",
   "pygments_lexer": "ipython3",
   "version": "3.12.3"
  }
 },
 "nbformat": 4,
 "nbformat_minor": 2
}
